{
  "cells": [
    {
      "cell_type": "markdown",
      "metadata": {
        "id": "BP8bdWSbBRqw"
      },
      "source": [
        "## Quick Tour\n",
        "\n",
        "The following examples show how to get started with the `unstructured` library. See\n",
        "our [documentation page](https://unstructured-io.github.io/unstructured) for a full description\n",
        "of the features in the library.\n",
        "\n",
        "Another way to try out the `unstructured` library is by running a docker container -- compatible with either Intel/AMD or Apple Silicon! Check out the [instructions for using the docker image](https://github.com/Unstructured-IO/unstructured#dizzy-instructions-for-using-the-docker-image)."
      ]
    },
    {
      "cell_type": "code",
      "execution_count": 1,
      "metadata": {
        "colab": {
          "base_uri": "https://localhost:8080/"
        },
        "id": "jZp37lfueaeZ",
        "outputId": "1fafda8a-9738-4661-809c-f57dde37aaae"
      },
      "outputs": [
        {
          "name": "stdout",
          "output_type": "stream",
          "text": [
            "Selecting previously unselected package poppler-utils.\n",
            "(Reading database ... 123598 files and directories currently installed.)\n",
            "Preparing to unpack .../poppler-utils_22.02.0-2ubuntu0.5_amd64.deb ...\n",
            "Unpacking poppler-utils (22.02.0-2ubuntu0.5) ...\n",
            "Selecting previously unselected package tesseract-ocr-eng.\n",
            "Preparing to unpack .../tesseract-ocr-eng_1%3a4.00~git30-7274cfa-1.1_all.deb ...\n",
            "Unpacking tesseract-ocr-eng (1:4.00~git30-7274cfa-1.1) ...\n",
            "Selecting previously unselected package tesseract-ocr-osd.\n",
            "Preparing to unpack .../tesseract-ocr-osd_1%3a4.00~git30-7274cfa-1.1_all.deb ...\n",
            "Unpacking tesseract-ocr-osd (1:4.00~git30-7274cfa-1.1) ...\n",
            "Selecting previously unselected package tesseract-ocr.\n",
            "Preparing to unpack .../tesseract-ocr_4.1.1-2.1build1_amd64.deb ...\n",
            "Unpacking tesseract-ocr (4.1.1-2.1build1) ...\n",
            "Setting up tesseract-ocr-eng (1:4.00~git30-7274cfa-1.1) ...\n",
            "Setting up tesseract-ocr-osd (1:4.00~git30-7274cfa-1.1) ...\n",
            "Setting up poppler-utils (22.02.0-2ubuntu0.5) ...\n",
            "Setting up tesseract-ocr (4.1.1-2.1build1) ...\n",
            "Processing triggers for man-db (2.10.2-1) ...\n",
            "\u001b[2K   \u001b[90m━━━━━━━━━━━━━━━━━━━━━━━━━━━━━━━━━━━━━━━━\u001b[0m \u001b[32m4.5/4.5 MB\u001b[0m \u001b[31m33.5 MB/s\u001b[0m eta \u001b[36m0:00:00\u001b[0m\n",
            "\u001b[2K     \u001b[90m━━━━━━━━━━━━━━━━━━━━━━━━━━━━━━━━━━━━━━━━\u001b[0m \u001b[32m981.5/981.5 kB\u001b[0m \u001b[31m16.6 MB/s\u001b[0m eta \u001b[36m0:00:00\u001b[0m\n",
            "\u001b[?25h  Preparing metadata (setup.py) ... \u001b[?25l\u001b[?25hdone\n",
            "\u001b[2K     \u001b[90m━━━━━━━━━━━━━━━━━━━━━━━━━━━━━━━━━━━━━━━━\u001b[0m \u001b[32m42.2/42.2 kB\u001b[0m \u001b[31m131.1 kB/s\u001b[0m eta \u001b[36m0:00:00\u001b[0m\n",
            "\u001b[?25h  Preparing metadata (setup.py) ... \u001b[?25l\u001b[?25hdone\n",
            "\u001b[2K     \u001b[90m━━━━━━━━━━━━━━━━━━━━━━━━━━━━━━━━━━━━━━━━\u001b[0m \u001b[32m40.1/40.1 kB\u001b[0m \u001b[31m1.9 MB/s\u001b[0m eta \u001b[36m0:00:00\u001b[0m\n",
            "\u001b[2K     \u001b[90m━━━━━━━━━━━━━━━━━━━━━━━━━━━━━━━━━━━━━━━━\u001b[0m \u001b[32m53.8/53.8 kB\u001b[0m \u001b[31m2.4 MB/s\u001b[0m eta \u001b[36m0:00:00\u001b[0m\n",
            "\u001b[2K     \u001b[90m━━━━━━━━━━━━━━━━━━━━━━━━━━━━━━━━━━━━━━━━\u001b[0m \u001b[32m48.5/48.5 kB\u001b[0m \u001b[31m2.1 MB/s\u001b[0m eta \u001b[36m0:00:00\u001b[0m\n",
            "\u001b[2K     \u001b[90m━━━━━━━━━━━━━━━━━━━━━━━━━━━━━━━━━━━━━━━━\u001b[0m \u001b[32m117.0/117.0 kB\u001b[0m \u001b[31m5.8 MB/s\u001b[0m eta \u001b[36m0:00:00\u001b[0m\n",
            "\u001b[?25h  Preparing metadata (setup.py) ... \u001b[?25l\u001b[?25hdone\n",
            "\u001b[2K   \u001b[90m━━━━━━━━━━━━━━━━━━━━━━━━━━━━━━━━━━━━━━━━\u001b[0m \u001b[32m1.8/1.8 MB\u001b[0m \u001b[31m26.7 MB/s\u001b[0m eta \u001b[36m0:00:00\u001b[0m\n",
            "\u001b[2K   \u001b[90m━━━━━━━━━━━━━━━━━━━━━━━━━━━━━━━━━━━━━━━━\u001b[0m \u001b[32m60.1/60.1 kB\u001b[0m \u001b[31m3.1 MB/s\u001b[0m eta \u001b[36m0:00:00\u001b[0m\n",
            "\u001b[2K   \u001b[90m━━━━━━━━━━━━━━━━━━━━━━━━━━━━━━━━━━━━━━━━\u001b[0m \u001b[32m471.6/471.6 kB\u001b[0m \u001b[31m19.3 MB/s\u001b[0m eta \u001b[36m0:00:00\u001b[0m\n",
            "\u001b[2K   \u001b[90m━━━━━━━━━━━━━━━━━━━━━━━━━━━━━━━━━━━━━━━━\u001b[0m \u001b[32m43.5/43.5 kB\u001b[0m \u001b[31m2.3 MB/s\u001b[0m eta \u001b[36m0:00:00\u001b[0m\n",
            "\u001b[2K   \u001b[90m━━━━━━━━━━━━━━━━━━━━━━━━━━━━━━━━━━━━━━━━\u001b[0m \u001b[32m295.8/295.8 kB\u001b[0m \u001b[31m12.6 MB/s\u001b[0m eta \u001b[36m0:00:00\u001b[0m\n",
            "\u001b[2K   \u001b[90m━━━━━━━━━━━━━━━━━━━━━━━━━━━━━━━━━━━━━━━━\u001b[0m \u001b[32m431.4/431.4 kB\u001b[0m \u001b[31m16.9 MB/s\u001b[0m eta \u001b[36m0:00:00\u001b[0m\n",
            "\u001b[2K   \u001b[90m━━━━━━━━━━━━━━━━━━━━━━━━━━━━━━━━━━━━━━━━\u001b[0m \u001b[32m101.8/101.8 kB\u001b[0m \u001b[31m4.4 MB/s\u001b[0m eta \u001b[36m0:00:00\u001b[0m\n",
            "\u001b[2K   \u001b[90m━━━━━━━━━━━━━━━━━━━━━━━━━━━━━━━━━━━━━━━━\u001b[0m \u001b[32m15.9/15.9 MB\u001b[0m \u001b[31m28.6 MB/s\u001b[0m eta \u001b[36m0:00:00\u001b[0m\n",
            "\u001b[2K   \u001b[90m━━━━━━━━━━━━━━━━━━━━━━━━━━━━━━━━━━━━━━━━\u001b[0m \u001b[32m2.4/2.4 MB\u001b[0m \u001b[31m45.2 MB/s\u001b[0m eta \u001b[36m0:00:00\u001b[0m\n",
            "\u001b[2K   \u001b[90m━━━━━━━━━━━━━━━━━━━━━━━━━━━━━━━━━━━━━━━━\u001b[0m \u001b[32m7.6/7.6 MB\u001b[0m \u001b[31m26.9 MB/s\u001b[0m eta \u001b[36m0:00:00\u001b[0m\n",
            "\u001b[2K   \u001b[90m━━━━━━━━━━━━━━━━━━━━━━━━━━━━━━━━━━━━━━━━\u001b[0m \u001b[32m244.3/244.3 kB\u001b[0m \u001b[31m12.0 MB/s\u001b[0m eta \u001b[36m0:00:00\u001b[0m\n",
            "\u001b[2K   \u001b[90m━━━━━━━━━━━━━━━━━━━━━━━━━━━━━━━━━━━━━━━━\u001b[0m \u001b[32m274.7/274.7 kB\u001b[0m \u001b[31m13.3 MB/s\u001b[0m eta \u001b[36m0:00:00\u001b[0m\n",
            "\u001b[2K   \u001b[90m━━━━━━━━━━━━━━━━━━━━━━━━━━━━━━━━━━━━━━━━\u001b[0m \u001b[32m3.4/3.4 MB\u001b[0m \u001b[31m46.3 MB/s\u001b[0m eta \u001b[36m0:00:00\u001b[0m\n",
            "\u001b[2K   \u001b[90m━━━━━━━━━━━━━━━━━━━━━━━━━━━━━━━━━━━━━━━━\u001b[0m \u001b[32m80.8/80.8 kB\u001b[0m \u001b[31m4.1 MB/s\u001b[0m eta \u001b[36m0:00:00\u001b[0m\n",
            "\u001b[2K   \u001b[90m━━━━━━━━━━━━━━━━━━━━━━━━━━━━━━━━━━━━━━━━\u001b[0m \u001b[32m75.6/75.6 kB\u001b[0m \u001b[31m3.2 MB/s\u001b[0m eta \u001b[36m0:00:00\u001b[0m\n",
            "\u001b[2K   \u001b[90m━━━━━━━━━━━━━━━━━━━━━━━━━━━━━━━━━━━━━━━━\u001b[0m \u001b[32m77.9/77.9 kB\u001b[0m \u001b[31m3.2 MB/s\u001b[0m eta \u001b[36m0:00:00\u001b[0m\n",
            "\u001b[2K   \u001b[90m━━━━━━━━━━━━━━━━━━━━━━━━━━━━━━━━━━━━━━━━\u001b[0m \u001b[32m49.2/49.2 kB\u001b[0m \u001b[31m2.7 MB/s\u001b[0m eta \u001b[36m0:00:00\u001b[0m\n",
            "\u001b[2K   \u001b[90m━━━━━━━━━━━━━━━━━━━━━━━━━━━━━━━━━━━━━━━━\u001b[0m \u001b[32m114.6/114.6 kB\u001b[0m \u001b[31m6.3 MB/s\u001b[0m eta \u001b[36m0:00:00\u001b[0m\n",
            "\u001b[2K   \u001b[90m━━━━━━━━━━━━━━━━━━━━━━━━━━━━━━━━━━━━━━━━\u001b[0m \u001b[32m5.9/5.9 MB\u001b[0m \u001b[31m54.2 MB/s\u001b[0m eta \u001b[36m0:00:00\u001b[0m\n",
            "\u001b[2K   \u001b[90m━━━━━━━━━━━━━━━━━━━━━━━━━━━━━━━━━━━━━━━━\u001b[0m \u001b[32m54.5/54.5 kB\u001b[0m \u001b[31m3.1 MB/s\u001b[0m eta \u001b[36m0:00:00\u001b[0m\n",
            "\u001b[2K   \u001b[90m━━━━━━━━━━━━━━━━━━━━━━━━━━━━━━━━━━━━━━━━\u001b[0m \u001b[32m159.9/159.9 kB\u001b[0m \u001b[31m9.6 MB/s\u001b[0m eta \u001b[36m0:00:00\u001b[0m\n",
            "\u001b[2K   \u001b[90m━━━━━━━━━━━━━━━━━━━━━━━━━━━━━━━━━━━━━━━━\u001b[0m \u001b[32m46.0/46.0 kB\u001b[0m \u001b[31m2.4 MB/s\u001b[0m eta \u001b[36m0:00:00\u001b[0m\n",
            "\u001b[2K   \u001b[90m━━━━━━━━━━━━━━━━━━━━━━━━━━━━━━━━━━━━━━━━\u001b[0m \u001b[32m112.5/112.5 kB\u001b[0m \u001b[31m6.3 MB/s\u001b[0m eta \u001b[36m0:00:00\u001b[0m\n",
            "\u001b[2K   \u001b[90m━━━━━━━━━━━━━━━━━━━━━━━━━━━━━━━━━━━━━━━━\u001b[0m \u001b[32m19.2/19.2 MB\u001b[0m \u001b[31m64.1 MB/s\u001b[0m eta \u001b[36m0:00:00\u001b[0m\n",
            "\u001b[2K   \u001b[90m━━━━━━━━━━━━━━━━━━━━━━━━━━━━━━━━━━━━━━━━\u001b[0m \u001b[32m58.0/58.0 kB\u001b[0m \u001b[31m3.0 MB/s\u001b[0m eta \u001b[36m0:00:00\u001b[0m\n",
            "\u001b[2K   \u001b[90m━━━━━━━━━━━━━━━━━━━━━━━━━━━━━━━━━━━━━━━━\u001b[0m \u001b[32m5.6/5.6 MB\u001b[0m \u001b[31m76.5 MB/s\u001b[0m eta \u001b[36m0:00:00\u001b[0m\n",
            "\u001b[2K   \u001b[90m━━━━━━━━━━━━━━━━━━━━━━━━━━━━━━━━━━━━━━━━\u001b[0m \u001b[32m58.3/58.3 kB\u001b[0m \u001b[31m2.9 MB/s\u001b[0m eta \u001b[36m0:00:00\u001b[0m\n",
            "\u001b[2K   \u001b[90m━━━━━━━━━━━━━━━━━━━━━━━━━━━━━━━━━━━━━━━━\u001b[0m \u001b[32m86.8/86.8 kB\u001b[0m \u001b[31m4.9 MB/s\u001b[0m eta \u001b[36m0:00:00\u001b[0m\n",
            "\u001b[2K   \u001b[90m━━━━━━━━━━━━━━━━━━━━━━━━━━━━━━━━━━━━━━━━\u001b[0m \u001b[32m79.5/79.5 kB\u001b[0m \u001b[31m4.5 MB/s\u001b[0m eta \u001b[36m0:00:00\u001b[0m\n",
            "\u001b[2K   \u001b[90m━━━━━━━━━━━━━━━━━━━━━━━━━━━━━━━━━━━━━━━━\u001b[0m \u001b[32m2.8/2.8 MB\u001b[0m \u001b[31m66.9 MB/s\u001b[0m eta \u001b[36m0:00:00\u001b[0m\n",
            "\u001b[2K   \u001b[90m━━━━━━━━━━━━━━━━━━━━━━━━━━━━━━━━━━━━━━━━\u001b[0m \u001b[32m2.3/2.3 MB\u001b[0m \u001b[31m55.4 MB/s\u001b[0m eta \u001b[36m0:00:00\u001b[0m\n",
            "\u001b[2K   \u001b[90m━━━━━━━━━━━━━━━━━━━━━━━━━━━━━━━━━━━━━━━━\u001b[0m \u001b[32m19.7/19.7 MB\u001b[0m \u001b[31m15.7 MB/s\u001b[0m eta \u001b[36m0:00:00\u001b[0m\n",
            "\u001b[?25h  Building wheel for langdetect (setup.py) ... \u001b[?25l\u001b[?25hdone\n",
            "  Building wheel for iopath (setup.py) ... \u001b[?25l\u001b[?25hdone\n",
            "  Building wheel for antlr4-python3-runtime (setup.py) ... \u001b[?25l\u001b[?25hdone\n"
          ]
        }
      ],
      "source": [
        "# Install Requirements\n",
        "!apt-get -qq install poppler-utils tesseract-ocr\n",
        "# Upgrade Pillow to latest version\n",
        "%pip install -q --user --upgrade pillow\n",
        "# Install Python Packages\n",
        "%pip install -q unstructured[\"all-docs\"]==0.12.5\n",
        "# NOTE: you may also upgrade to the latest version with the command below,\n",
        "#       though a more recent version of unstructured will not have been tested with this notebook\n",
        "# %pip install -q --upgrade unstructured"
      ]
    },
    {
      "cell_type": "markdown",
      "metadata": {
        "id": "Aq7KaO6NtYXY"
      },
      "source": [
        "See our [example docs page](https://github.com/Unstructured-IO/unstructured/tree/main/example-docs) to find example docs used in this tutorial. You can also upload your own files by clicking on “Choose Files” on the left panel then select and upload the file to Colab."
      ]
    },
    {
      "cell_type": "code",
      "execution_count": null,
      "metadata": {
        "colab": {
          "base_uri": "https://localhost:8080/"
        },
        "id": "F2JBqRZgtq2Z",
        "outputId": "09697461-c006-4033-a8b1-e85a7bc531a4"
      },
      "outputs": [
        {
          "name": "stdout",
          "output_type": "stream",
          "text": [
            "--2024-08-05 08:20:10--  https://raw.githubusercontent.com/Unstructured-IO/unstructured/main/example-docs/example-10k.html\n",
            "Resolving raw.githubusercontent.com (raw.githubusercontent.com)... 185.199.108.133, 185.199.109.133, 185.199.110.133, ...\n",
            "Connecting to raw.githubusercontent.com (raw.githubusercontent.com)|185.199.108.133|:443... connected.\n",
            "HTTP request sent, awaiting response... 200 OK\n",
            "Length: 2456707 (2.3M) [text/plain]\n",
            "Saving to: ‘example-docs/example-10k.html’\n",
            "\n",
            "example-10k.html    100%[===================>]   2.34M  --.-KB/s    in 0.04s   \n",
            "\n",
            "2024-08-05 08:20:10 (55.8 MB/s) - ‘example-docs/example-10k.html’ saved [2456707/2456707]\n",
            "\n",
            "--2024-08-05 08:20:10--  https://raw.githubusercontent.com/Unstructured-IO/unstructured/main/example-docs/layout-parser-paper-fast.pdf\n",
            "Resolving raw.githubusercontent.com (raw.githubusercontent.com)... 185.199.108.133, 185.199.109.133, 185.199.110.133, ...\n",
            "Connecting to raw.githubusercontent.com (raw.githubusercontent.com)|185.199.108.133|:443... connected.\n",
            "HTTP request sent, awaiting response... 404 Not Found\n",
            "2024-08-05 08:20:10 ERROR 404: Not Found.\n",
            "\n"
          ]
        }
      ],
      "source": [
        "!mkdir -p example-docs\n",
        "# Install example-10k.html and layout-parser-paper.pdf\n",
        "!wget  https://raw.githubusercontent.com/Unstructured-IO/unstructured/main/example-docs/example-10k.html -P example-docs\n",
        "!wget  https://raw.githubusercontent.com/Unstructured-IO/unstructured/main/example-docs/layout-parser-paper-fast.pdf -P example-docs"
      ]
    },
    {
      "cell_type": "code",
      "execution_count": 2,
      "metadata": {
        "colab": {
          "base_uri": "https://localhost:8080/"
        },
        "id": "huxQF-koB_8t",
        "outputId": "f4c36799-35d7-402b-8fa6-03c6b7017307"
      },
      "outputs": [
        {
          "name": "stderr",
          "output_type": "stream",
          "text": [
            "[nltk_data] Downloading package punkt to /root/nltk_data...\n",
            "[nltk_data]   Unzipping tokenizers/punkt.zip.\n",
            "[nltk_data] Downloading package averaged_perceptron_tagger to\n",
            "[nltk_data]     /root/nltk_data...\n",
            "[nltk_data]   Unzipping taggers/averaged_perceptron_tagger.zip.\n"
          ]
        },
        {
          "data": {
            "text/plain": [
              "True"
            ]
          },
          "execution_count": 2,
          "metadata": {},
          "output_type": "execute_result"
        }
      ],
      "source": [
        "# Install NLTK Data\n",
        "import nltk\n",
        "nltk.download('punkt')\n",
        "nltk.download('averaged_perceptron_tagger')"
      ]
    },
    {
      "cell_type": "markdown",
      "metadata": {
        "id": "vfurRdAnGagZ"
      },
      "source": [
        "### PDF Parsing\n",
        "\n",
        "There are two strategies availalbe for parsing PDF documents: \"fast\" and \"hi_res.\" The default strategy is \"hi_res\"\n",
        "\n",
        "If your main objective is extracting text from a \"clean\" PDF, i.e. one that does not include text in images that require OCR), go with the \"fast\" option.\n",
        "\n",
        "Otherwise, if your PDF may have images with text to extract, or, you prefer to have better structured Elements that better characterize the text items within the document, go with with the \"hi_res\" option.\n",
        "\n",
        "Naturally, \"fast\" is faster than \"hi_res\" -- by an order of magnitude!"
      ]
    },
    {
      "cell_type": "markdown",
      "metadata": {
        "id": "Y2iYPh8DMBQa"
      },
      "source": [
        "**Connecting to Google Drive**"
      ]
    },
    {
      "cell_type": "code",
      "execution_count": 4,
      "metadata": {
        "colab": {
          "base_uri": "https://localhost:8080/"
        },
        "id": "3SK3bNehMEIK",
        "outputId": "66f59fcf-7a66-495e-a1d0-f1eb33d6c83b"
      },
      "outputs": [
        {
          "name": "stdout",
          "output_type": "stream",
          "text": [
            "Drive already mounted at /content/drive; to attempt to forcibly remount, call drive.mount(\"/content/drive\", force_remount=True).\n"
          ]
        }
      ],
      "source": [
        "from google.colab import drive\n",
        "# Mount your Google Drive\n",
        "drive.mount('/content/drive')"
      ]
    },
    {
      "cell_type": "code",
      "execution_count": 7,
      "metadata": {
        "colab": {
          "base_uri": "https://localhost:8080/",
          "height": 234,
          "referenced_widgets": [
            "ddfae84cb1d54665881e29226d6af457",
            "bdf9c7b9051b47e888054200e3eaee2a",
            "ff99053018eb44d49f5024520ef47538",
            "309be3951f164683967c22fdc9169eb3",
            "e7490a793c9645078ddae13a58982942",
            "8818f0cb29c44a20b0594f0bc6c58f74",
            "1586e31a998d461db568771083d8ea73",
            "0f46a4beb23e43f490277cef5722f2d1",
            "d9f0eba661844582b532674d3b2ea324",
            "575dd15ea2e04cc392e0b4979c264015",
            "446e63e3c0ff48bbab30988de9185a62",
            "ecb3a2cd40bb43db8a57bb175e4e1552",
            "1b8d9a55783a44aeb3de9709c6bb19d8",
            "a54a41ee199c4a699a513647ee5345a3",
            "a07201dd1b314cf2a8edc353b1171811",
            "3872f9e876844910b7c33d3cc6ce55b1",
            "9af2fc34e7514c6d88d6f6250d0dd7d2",
            "7911d956d367447da39991511aa4750e",
            "bd63504f5a644b509388199152913930",
            "f37e867f10eb43c687c43a7d0e8ee8e8",
            "8eecc2608a6e4ed8941782827fb66bca",
            "98472d21074b40f28a6e92368be4ac5c",
            "bb85b779e7214e148b54d61fa852e5dc",
            "e4916a6240a340e6ab6d81e3d24035b0",
            "69f514e4dda44700b061ab613da679c2",
            "b0dbb062319d40ea8112c454980d8e6e",
            "7a5f1076aeed453a999f7777d9357f9f",
            "38791793c95047c8a4a0d7630791457c",
            "74e18bfad79d45debee9d839229f2eaa",
            "5227e8a36f294f5d9d214252379ca235",
            "69df5ee998274a9d80e00e7b1e691661",
            "1611ba69605c427a8d1520363b2848ac",
            "6daa940b22e743768d54a92a1835bb50",
            "82c4c9f61063437aa9fe9646ada8d899",
            "34cdc4213ab447a384040b3e8a134f60",
            "0bf0678fe0244fb08c572b3419db1884",
            "ef895b47596e4f298099e7290798fb2d",
            "8b7847aeee6a45ec89ed5a46a872cfe6",
            "680ec143e76942d497378711fe3577c0",
            "79e3c64d7ca043549db5a18225787288",
            "b908dacb29f64a0686368e9d2c10f8cf",
            "98427ca964794adf9568731618952cb5",
            "0e1bffc329b64c4d8756842468b9dbd9",
            "68f0b6abcf2641e990b83215008b8e48"
          ]
        },
        "id": "E_WN7p3JGcLJ",
        "outputId": "bcbe0fed-56f5-40c9-8b66-50c2cd743d56"
      },
      "outputs": [
        {
          "name": "stderr",
          "output_type": "stream",
          "text": [
            "WARNING:unstructured:This function will be deprecated in a future release and `unstructured` will simply use the DEFAULT_MODEL from `unstructured_inference.model.base` to set default model name\n"
          ]
        },
        {
          "data": {
            "application/vnd.jupyter.widget-view+json": {
              "model_id": "ddfae84cb1d54665881e29226d6af457",
              "version_major": 2,
              "version_minor": 0
            },
            "text/plain": [
              "yolox_l0.05.onnx:   0%|          | 0.00/217M [00:00<?, ?B/s]"
            ]
          },
          "metadata": {},
          "output_type": "display_data"
        },
        {
          "data": {
            "application/vnd.jupyter.widget-view+json": {
              "model_id": "ecb3a2cd40bb43db8a57bb175e4e1552",
              "version_major": 2,
              "version_minor": 0
            },
            "text/plain": [
              "config.json:   0%|          | 0.00/1.47k [00:00<?, ?B/s]"
            ]
          },
          "metadata": {},
          "output_type": "display_data"
        },
        {
          "data": {
            "application/vnd.jupyter.widget-view+json": {
              "model_id": "bb85b779e7214e148b54d61fa852e5dc",
              "version_major": 2,
              "version_minor": 0
            },
            "text/plain": [
              "model.safetensors:   0%|          | 0.00/115M [00:00<?, ?B/s]"
            ]
          },
          "metadata": {},
          "output_type": "display_data"
        },
        {
          "data": {
            "application/vnd.jupyter.widget-view+json": {
              "model_id": "82c4c9f61063437aa9fe9646ada8d899",
              "version_major": 2,
              "version_minor": 0
            },
            "text/plain": [
              "model.safetensors:   0%|          | 0.00/46.8M [00:00<?, ?B/s]"
            ]
          },
          "metadata": {},
          "output_type": "display_data"
        },
        {
          "name": "stderr",
          "output_type": "stream",
          "text": [
            "Some weights of the model checkpoint at microsoft/table-transformer-structure-recognition were not used when initializing TableTransformerForObjectDetection: ['model.backbone.conv_encoder.model.layer2.0.downsample.1.num_batches_tracked', 'model.backbone.conv_encoder.model.layer3.0.downsample.1.num_batches_tracked', 'model.backbone.conv_encoder.model.layer4.0.downsample.1.num_batches_tracked']\n",
            "- This IS expected if you are initializing TableTransformerForObjectDetection from the checkpoint of a model trained on another task or with another architecture (e.g. initializing a BertForSequenceClassification model from a BertForPreTraining model).\n",
            "- This IS NOT expected if you are initializing TableTransformerForObjectDetection from the checkpoint of a model that you expect to be exactly identical (initializing a BertForSequenceClassification model from a BertForSequenceClassification model).\n"
          ]
        }
      ],
      "source": [
        "from unstructured.partition.pdf import partition_pdf\n",
        "\n",
        "\n",
        "elements = partition_pdf(\n",
        "    \"/content/drive/My Drive/UET_Lahore.pdf\",\n",
        "    chunking_strategy=\"by_title\",\n",
        "    extract_images_in_pdf=True,\n",
        "    infer_table_structure=True,\n",
        "    max_characters=3000,\n",
        "    new_after_n_chars=2800,\n",
        "    combine_text_under_n_chars=2000,\n",
        "    combine_similar_elements=True,\n",
        "    image_output_dir_path='/content'\n",
        ")"
      ]
    },
    {
      "cell_type": "markdown",
      "metadata": {
        "id": "Z0CELStYKNUD"
      },
      "source": [
        "Let's examine the types of elements returned for both the \"hi_res\" and \"fast\" strategies:"
      ]
    },
    {
      "cell_type": "code",
      "execution_count": 8,
      "metadata": {
        "id": "peiuDBlv2imF"
      },
      "outputs": [],
      "source": [
        "# Categorize elements by type\n",
        "def categorize_elements(raw_pdf_elements):\n",
        "    text_elements = []\n",
        "    table_elements = []\n",
        "    for element in raw_pdf_elements:\n",
        "        if 'CompositeElement' in str(type(element)):\n",
        "            text_elements.append(str(element))\n",
        "        elif 'Table' in str(type(element)):\n",
        "            table_elements.append(str(element))\n",
        "    return text_elements, table_elements\n"
      ]
    },
    {
      "cell_type": "markdown",
      "metadata": {
        "id": "5Iq8hR-x9Ti1"
      },
      "source": [
        "Let's display the type and text of some of the elements in the document:"
      ]
    },
    {
      "cell_type": "code",
      "execution_count": 9,
      "metadata": {
        "colab": {
          "base_uri": "https://localhost:8080/"
        },
        "id": "prVGy4uc7YpB",
        "outputId": "450f0950-4e4f-497d-8e52-fe1e1b48766b"
      },
      "outputs": [
        {
          "name": "stdout",
          "output_type": "stream",
          "text": [
            "199\n",
            "148\n"
          ]
        }
      ],
      "source": [
        "# extract tables and texts\n",
        "texts, tables = categorize_elements(elements)\n",
        "\n",
        "# length of text elem\n",
        "print(len(texts))\n",
        "\n",
        "# length of table elem\n",
        "print(len(tables))"
      ]
    },
    {
      "cell_type": "markdown",
      "metadata": {
        "id": "IlBJ9SB9MIEv"
      },
      "source": [
        "### generate text, table and image summaries"
      ]
    },
    {
      "cell_type": "code",
      "execution_count": 10,
      "metadata": {
        "id": "n5iofROd4SZr"
      },
      "outputs": [],
      "source": [
        "%%capture\n",
        "!pip install -U google-generativeai langchain langchain-google-genai python-dotenv"
      ]
    },
    {
      "cell_type": "code",
      "execution_count": null,
      "metadata": {
        "id": "P3XB5CO04fPW"
      },
      "outputs": [],
      "source": [
        "import os\n",
        "os.environ['LANGCHAIN_TRACING_V2'] = 'true'\n",
        "os.environ['LANGCHAIN_ENDPOINT'] = 'https://api.smith.langchain.com'\n",
        "os.environ['LANGCHAIN_API_KEY'] = 'LANGCHAIN_API_KEY'\n",
        "os.environ['GOOGLE_API_KEY'] = 'GOOGLE_API_KEY'\n",
        "\n",
        "# Or use `os.getenv('GOOGLE_API_KEY')` to fetch an environment variable.\n",
        "import google.generativeai as genai\n",
        "GOOGLE_API_KEY= os.getenv('GOOGLE_API_KEY')\n",
        "genai.configure(api_key=GOOGLE_API_KEY)"
      ]
    },
    {
      "cell_type": "code",
      "execution_count": 37,
      "metadata": {
        "id": "sB8UAQPQHDT5"
      },
      "outputs": [],
      "source": [
        "from langchain_core.messages import HumanMessage, AIMessage\n",
        "from langchain_google_genai import ChatGoogleGenerativeAI\n",
        "from langchain_core.output_parsers import StrOutputParser\n",
        "from langchain_core.runnables import RunnableLambda\n",
        "from langchain.prompts import PromptTemplate\n",
        "\n",
        "model = ChatGoogleGenerativeAI(model=\"gemini-1.5-flash\",temperature=0, max_tokens=1024)\n",
        "model_vision = ChatGoogleGenerativeAI(model=\"gemini-1.5-flash\",temperature=0, max_tokens=1024)"
      ]
    },
    {
      "cell_type": "code",
      "execution_count": 38,
      "metadata": {
        "colab": {
          "base_uri": "https://localhost:8080/",
          "height": 88
        },
        "id": "J7gIbLhxmXbB",
        "outputId": "4d351f5d-ca9f-4352-c387-74173be518e7"
      },
      "outputs": [
        {
          "data": {
            "application/vnd.google.colaboratory.intrinsic+json": {
              "type": "string"
            },
            "text/plain": [
              "'from a HEC Degree Title M.Sc. Electrical Engineering M.Sc. Artificial Intelligence M.Sc. Telecommunication Networks M.Sc. Computer Engineering M.Sc. Computer Science M.Sc. Thermal Power Engineering M.Sc. Mechanical Design Engineering M.Sc. Automotive Engineering M.Sc. Thermo-fluid Engineering M.Sc. Railway Engineering M.Sc. Renewable Energy Systems Engineering M.Sc. Mechatronics Engineering M.Sc. Engineering Management M.Sc. Environmental Engineering'"
            ]
          },
          "execution_count": 38,
          "metadata": {},
          "output_type": "execute_result"
        }
      ],
      "source": [
        "# texts[10]\n",
        "tables[10]\n"
      ]
    },
    {
      "cell_type": "markdown",
      "metadata": {
        "id": "EtCOXMHU5Dy4"
      },
      "source": [
        "text & table summaries"
      ]
    },
    {
      "cell_type": "code",
      "execution_count": 41,
      "metadata": {
        "id": "tjA5HAXf5G-S"
      },
      "outputs": [],
      "source": [
        "import time\n",
        "from tenacity import retry, stop_after_attempt, wait_exponential\n",
        "\n",
        "# Generate summaries of text elements\n",
        "def generate_text_summaries(texts, tables, summarize_texts=False):\n",
        "    \"\"\"\n",
        "    Summarize text elements\n",
        "    texts: List of str\n",
        "    tables: List of str\n",
        "    summarize_texts: Bool to summarize texts\n",
        "    \"\"\"\n",
        "\n",
        "    # Prompt\n",
        "    prompt_text = \"\"\"You are an assistant tasked with summarizing tables and text for retrieval. \\\n",
        "    These summaries will be embedded and used to retrieve the raw text or table elements. \\\n",
        "    Give a concise summary of the table or text that is well-optimized for retrieval. Table \\\n",
        "    or text: {element} \"\"\"\n",
        "    prompt = PromptTemplate.from_template(prompt_text)\n",
        "    #empty_response = RunnableLambda(\n",
        "      #  lambda x: AIMessage(content=\"Error processing document\")\n",
        "   # )\n",
        "    # Text summary chain\n",
        "    summarize_chain = {\"element\": lambda x: x} | prompt | model | StrOutputParser()\n",
        "\n",
        "    # Initialize empty summaries\n",
        "    text_summaries = []\n",
        "    table_summaries = []\n",
        "\n",
        "    @retry(stop=stop_after_attempt(5), wait=wait_exponential(multiplier=1, min=4, max=60))\n",
        "    def batch_process(elements):\n",
        "        return summarize_chain.batch(elements, {\"max_concurrency\": 1})\n",
        "\n",
        "    # Apply to text if texts are provided and summarization is requested\n",
        "    if texts and summarize_texts:\n",
        "        for i in range(0, len(texts), 1):  # Process in smaller batches\n",
        "            text_summaries.extend(batch_process(texts[i:i+1]))\n",
        "    elif texts:\n",
        "        text_summaries = texts\n",
        "\n",
        "    # Apply to tables if tables are provided\n",
        "    if tables:\n",
        "        for i in range(0, len(tables), 1):  # Process in smaller batches\n",
        "            table_summaries.extend(batch_process(tables[i:i+1]))\n",
        "\n",
        "    return text_summaries, table_summaries\n",
        "\n",
        "\n",
        "# Get text & table summaries\n",
        "text_summaries, table_summaries = generate_text_summaries(texts[0:5], tables[0:5], summarize_texts=True)"
      ]
    },
    {
      "cell_type": "code",
      "execution_count": 42,
      "metadata": {
        "colab": {
          "base_uri": "https://localhost:8080/"
        },
        "id": "EdMSamzm5S91",
        "outputId": "9641fe03-8b5f-4ea9-c645-e4679e7acd68"
      },
      "outputs": [
        {
          "data": {
            "text/plain": [
              "5"
            ]
          },
          "execution_count": 42,
          "metadata": {},
          "output_type": "execute_result"
        }
      ],
      "source": [
        "len(text_summaries)"
      ]
    },
    {
      "cell_type": "code",
      "execution_count": 44,
      "metadata": {
        "colab": {
          "base_uri": "https://localhost:8080/"
        },
        "id": "ovLhjtnq5U0q",
        "outputId": "e56f9fc1-486e-4c63-a2b2-ef1238e24e86"
      },
      "outputs": [
        {
          "data": {
            "text/plain": [
              "5"
            ]
          },
          "execution_count": 44,
          "metadata": {},
          "output_type": "execute_result"
        }
      ],
      "source": [
        "len(table_summaries)"
      ]
    },
    {
      "cell_type": "markdown",
      "metadata": {
        "id": "kKAq27QG5dqp"
      },
      "source": [
        "image summaries"
      ]
    },
    {
      "cell_type": "code",
      "execution_count": 45,
      "metadata": {
        "id": "6LfxbTRj5e01"
      },
      "outputs": [],
      "source": [
        "import os\n",
        "import base64\n",
        "# encode image\n",
        "def encode_image(image_path):\n",
        "    \"\"\"Getting the base64 string\"\"\"\n",
        "    with open(image_path, \"rb\") as image_file:\n",
        "        return base64.b64encode(image_file.read()).decode(\"utf-8\")"
      ]
    },
    {
      "cell_type": "code",
      "execution_count": 46,
      "metadata": {
        "id": "o9oZ1GIj5iSZ"
      },
      "outputs": [],
      "source": [
        "def image_summarize(img_base64, prompt):\n",
        "    \"\"\"Make image summary\"\"\"\n",
        "    msg = model_vision.invoke(\n",
        "        [\n",
        "            HumanMessage(\n",
        "                content=[\n",
        "                    {\"type\": \"text\", \"text\": prompt},\n",
        "                    {\n",
        "                        \"type\": \"image_url\",\n",
        "                        \"image_url\": {\"url\": f\"data:image/jpeg;base64,{img_base64}\"},\n",
        "                    },\n",
        "                ]\n",
        "            )\n",
        "        ]\n",
        "    )\n",
        "    return msg.content\n"
      ]
    },
    {
      "cell_type": "code",
      "execution_count": 50,
      "metadata": {
        "id": "P7AeF2LF5k1F"
      },
      "outputs": [],
      "source": [
        "def generate_img_summaries(path):\n",
        "    \"\"\"\n",
        "    Generate summaries and base64 encoded strings for images\n",
        "    path: Path to list of .jpg files extracted by Unstructured\n",
        "    \"\"\"\n",
        "    # Store base64 encoded images\n",
        "    img_base64_list = []\n",
        "\n",
        "    # Store image summaries\n",
        "    image_summaries = []\n",
        "\n",
        "    # Prompt\n",
        "    prompt = \"\"\"You are an assistant tasked with summarizing images for retrieval. \\\n",
        "    These summaries will be embedded and used to retrieve the raw image. \\\n",
        "    Give a concise summary of the image that is well optimized for retrieval.\"\"\"\n",
        "    image_files = sorted([f for f in os.listdir(path) if f.endswith(('.png', '.jpg', '.jpeg'))])\n",
        "    image_files = image_files[:5]\n",
        "    for img_file in image_files:\n",
        "        img_path = os.path.join(path, img_file)\n",
        "        base64_image = encode_image(img_path)\n",
        "        img_base64_list.append(base64_image)\n",
        "        image_summaries.append(image_summarize(base64_image, prompt))\n",
        "    return img_base64_list, image_summaries\n"
      ]
    },
    {
      "cell_type": "code",
      "execution_count": 51,
      "metadata": {
        "id": "XNBySLIh5n2Q"
      },
      "outputs": [],
      "source": [
        "fpath = \"/content/figures\"\n",
        "# Image summaries\n",
        "img_base64_list, image_summaries = generate_img_summaries(fpath)"
      ]
    },
    {
      "cell_type": "code",
      "execution_count": 54,
      "metadata": {
        "colab": {
          "base_uri": "https://localhost:8080/",
          "height": 36
        },
        "id": "Ca7r8Gz96PST",
        "outputId": "f3c65615-efa4-4e59-9101-fde86d71558b"
      },
      "outputs": [
        {
          "data": {
            "application/vnd.google.colaboratory.intrinsic+json": {
              "type": "string"
            },
            "text/plain": [
              "'A microscope connected to a computer monitor displaying a magnified image of a green leaf.'"
            ]
          },
          "execution_count": 54,
          "metadata": {},
          "output_type": "execute_result"
        }
      ],
      "source": [
        "image_summaries[2]"
      ]
    },
    {
      "cell_type": "markdown",
      "metadata": {
        "id": "eeWFbhYy6SPI"
      },
      "source": [
        "## Multi-vector retriever"
      ]
    },
    {
      "cell_type": "code",
      "execution_count": 56,
      "metadata": {
        "id": "-NCXCk0C6X_h"
      },
      "outputs": [],
      "source": [
        "%%capture\n",
        "!pip install langchain-community"
      ]
    },
    {
      "cell_type": "code",
      "execution_count": 57,
      "metadata": {
        "id": "Kwy5YAJV6Uoq"
      },
      "outputs": [],
      "source": [
        "import uuid\n",
        "from langchain_google_genai import GoogleGenerativeAIEmbeddings\n",
        "from langchain.retrievers.multi_vector import MultiVectorRetriever\n",
        "from langchain.schema.document import Document\n",
        "from langchain.storage import InMemoryStore\n",
        "from langchain.vectorstores import Chroma"
      ]
    },
    {
      "cell_type": "code",
      "execution_count": 58,
      "metadata": {
        "id": "KPswplnH6iiQ"
      },
      "outputs": [],
      "source": [
        "def create_multi_vector_retriever(vectorstore, text_summaries, texts, table_summaries, tables, image_summaries, images):\n",
        "    \"\"\"\n",
        "    Create retriever that indexes summaries, but returns raw images or texts\n",
        "    \"\"\"\n",
        "    # Initialize the storage layer\n",
        "    store = InMemoryStore()\n",
        "    id_key = \"doc_id\"\n",
        "\n",
        "    # Create the multi-vector retriever\n",
        "    retriever = MultiVectorRetriever(\n",
        "        vectorstore=vectorstore,\n",
        "        docstore=store,\n",
        "        id_key=id_key,\n",
        "    )\n",
        "\n",
        "    # Helper function to add documents to the vectorstore and docstore\n",
        "    def add_documents(retriever, doc_summaries, doc_contents):\n",
        "        doc_ids = [str(uuid.uuid4()) for _ in doc_contents]\n",
        "        summary_docs = [\n",
        "            Document(page_content=s, metadata={id_key: doc_ids[i]})\n",
        "            for i, s in enumerate(doc_summaries)\n",
        "        ]\n",
        "        retriever.vectorstore.add_documents(summary_docs)\n",
        "        retriever.docstore.mset(list(zip(doc_ids, doc_contents)))\n",
        "\n",
        "    # Add texts, tables, and images\n",
        "    # Check that text_summaries is not empty before adding\n",
        "    if text_summaries:\n",
        "        add_documents(retriever, text_summaries, texts)\n",
        "    # Check that table_summaries is not empty before adding\n",
        "    if table_summaries:\n",
        "        add_documents(retriever, table_summaries, tables)\n",
        "    # Check that image_summaries is not empty before adding\n",
        "    if image_summaries:\n",
        "        add_documents(retriever, image_summaries, images)\n",
        "\n",
        "    return retriever\n",
        "\n"
      ]
    },
    {
      "cell_type": "code",
      "execution_count": 59,
      "metadata": {
        "id": "1saxImxP6qfr"
      },
      "outputs": [],
      "source": [
        "%%capture\n",
        "!pip install chromadb"
      ]
    },
    {
      "cell_type": "code",
      "execution_count": 60,
      "metadata": {
        "colab": {
          "base_uri": "https://localhost:8080/"
        },
        "id": "jdv1m5xu6mSO",
        "outputId": "79630da8-43db-4a5a-c06c-06db4f53eea8"
      },
      "outputs": [
        {
          "name": "stderr",
          "output_type": "stream",
          "text": [
            "/usr/local/lib/python3.10/dist-packages/langchain_core/_api/deprecation.py:139: LangChainDeprecationWarning: The class `Chroma` was deprecated in LangChain 0.2.9 and will be removed in 0.4. An updated version of the class exists in the langchain-chroma package and should be used instead. To use it run `pip install -U langchain-chroma` and import as `from langchain_chroma import Chroma`.\n",
            "  warn_deprecated(\n"
          ]
        }
      ],
      "source": [
        "# The vectorstore to use to index the summaries\n",
        "vectorstore = Chroma(\n",
        "    collection_name=\"mm_rag_gemini\",\n",
        "    embedding_function=GoogleGenerativeAIEmbeddings(model=\"models/embedding-001\"), # embedding model\n",
        ")\n",
        "\n",
        "# Create retriever\n",
        "retriever_multi_vector_img = create_multi_vector_retriever(\n",
        "    vectorstore,\n",
        "    text_summaries,\n",
        "    texts,\n",
        "    table_summaries,\n",
        "    tables,\n",
        "    image_summaries,\n",
        "    img_base64_list,\n",
        ")"
      ]
    },
    {
      "cell_type": "markdown",
      "metadata": {
        "id": "YrECRgWe64pp"
      },
      "source": [
        "## RAG Pipeline"
      ]
    },
    {
      "cell_type": "code",
      "execution_count": 61,
      "metadata": {
        "id": "phXEN0dy68E4"
      },
      "outputs": [],
      "source": [
        "import io\n",
        "import re\n",
        "\n",
        "from IPython.display import HTML, display\n",
        "from langchain.schema.runnable import RunnableLambda, RunnablePassthrough\n",
        "from PIL import Image\n",
        "\n",
        "\n",
        "def plt_img_base64(img_base64):\n",
        "    \"\"\"Disply base64 encoded string as image\"\"\"\n",
        "    # Create an HTML img tag with the base64 string as the source\n",
        "    image_html = f'<img src=\"data:image/jpeg;base64,{img_base64}\" />'\n",
        "    # Display the image by rendering the HTML\n",
        "    display(HTML(image_html))\n",
        "\n",
        "def looks_like_base64(sb):\n",
        "    \"\"\"Check if the string looks like base64\"\"\"\n",
        "    return re.match(\"^[A-Za-z0-9+/]+[=]{0,2}$\", sb) is not None\n",
        "\n",
        "\n",
        "def is_image_data(b64data):\n",
        "    \"\"\"\n",
        "    Check if the base64 data is an image by looking at the start of the data\n",
        "    \"\"\"\n",
        "    image_signatures = {\n",
        "        b\"\\xFF\\xD8\\xFF\": \"jpg\",\n",
        "        b\"\\x89\\x50\\x4E\\x47\\x0D\\x0A\\x1A\\x0A\": \"png\",\n",
        "        b\"\\x47\\x49\\x46\\x38\": \"gif\",\n",
        "        b\"\\x52\\x49\\x46\\x46\": \"webp\",\n",
        "    }\n",
        "    try:\n",
        "        header = base64.b64decode(b64data)[:8]  # Decode and get the first 8 bytes\n",
        "        for sig, format in image_signatures.items():\n",
        "            if header.startswith(sig):\n",
        "                return True\n",
        "        return False\n",
        "    except Exception:\n",
        "        return False\n",
        "\n",
        "def resize_base64_image(base64_string, size=(128, 128)):\n",
        "    \"\"\"\n",
        "    Resize an image encoded as a Base64 string\n",
        "    \"\"\"\n",
        "    # Decode the Base64 string\n",
        "    img_data = base64.b64decode(base64_string)\n",
        "    img = Image.open(io.BytesIO(img_data))\n",
        "\n",
        "    # Resize the image\n",
        "    resized_img = img.resize(size, Image.LANCZOS)\n",
        "\n",
        "    # Save the resized image to a bytes buffer\n",
        "    buffered = io.BytesIO()\n",
        "    resized_img.save(buffered, format=img.format)\n",
        "\n",
        "    # Encode the resized image to Base64\n",
        "    return base64.b64encode(buffered.getvalue()).decode(\"utf-8\")\n",
        "\n",
        "def split_image_text_types(docs):\n",
        "    \"\"\"\n",
        "    Split base64-encoded images and texts\n",
        "    \"\"\"\n",
        "    b64_images = []\n",
        "    texts = []\n",
        "    for doc in docs:\n",
        "        # Check if the document is of type Document and extract page_content if so\n",
        "        if isinstance(doc, Document):\n",
        "            doc = doc.page_content\n",
        "        if looks_like_base64(doc) and is_image_data(doc):\n",
        "            doc = resize_base64_image(doc, size=(1300, 600))\n",
        "            b64_images.append(doc)\n",
        "        else:\n",
        "            texts.append(doc)\n",
        "    if len(b64_images) > 0:\n",
        "        return {\"images\": b64_images[:1], \"texts\": []}\n",
        "    return {\"images\": b64_images, \"texts\": texts}\n",
        "\n"
      ]
    },
    {
      "cell_type": "code",
      "execution_count": 62,
      "metadata": {
        "id": "l8IQlHuz7BJh"
      },
      "outputs": [],
      "source": [
        "def img_prompt_func(data_dict):\n",
        "    \"\"\"\n",
        "    Join the context into a single string\n",
        "    \"\"\"\n",
        "    formatted_texts = \"\\n\".join(data_dict[\"context\"][\"texts\"])\n",
        "    messages = []\n",
        "\n",
        "    # Adding the text for analysis\n",
        "    text_message = {\n",
        "        \"type\": \"text\",\n",
        "        \"text\": (\n",
        "            \"You are an AI scientist tasking with providing factual answers from Context.\\n\"\n",
        "            \"You will be given a mixed of text, tables, and image(s) usually of charts or graphs.\\n\"\n",
        "            \"Use this information to provide answers related to the user question. \\n\"\n",
        "            f\"User-provided question: {data_dict['question']}\\n\\n\"\n",
        "            \"Text and / or tables:\\n\"\n",
        "            f\"{formatted_texts}\"\n",
        "        ),\n",
        "    }\n",
        "    messages.append(text_message)\n",
        "    # Adding image(s) to the messages if present\n",
        "    if data_dict[\"context\"][\"images\"]:\n",
        "        for image in data_dict[\"context\"][\"images\"]:\n",
        "            image_message = {\n",
        "                \"type\": \"image_url\",\n",
        "                \"image_url\": {\"url\": f\"data:image/jpeg;base64,{image}\"},\n",
        "            }\n",
        "            messages.append(image_message)\n",
        "    return [HumanMessage(content=messages)]\n",
        "\n",
        "def multi_modal_rag_chain(retriever):\n",
        "    \"\"\"\n",
        "    Multi-modal RAG chain\n",
        "    \"\"\"\n",
        "\n",
        "    # RAG pipeline\n",
        "    chain = (\n",
        "        {\n",
        "            \"context\": retriever | RunnableLambda(split_image_text_types),\n",
        "            \"question\": RunnablePassthrough(),\n",
        "        }\n",
        "        | RunnableLambda(img_prompt_func)\n",
        "        | model_vision  # MM_LLM\n",
        "        | StrOutputParser()\n",
        "    )\n",
        "    return chain"
      ]
    },
    {
      "cell_type": "code",
      "execution_count": 63,
      "metadata": {
        "id": "LXri2p3G7Ety"
      },
      "outputs": [],
      "source": [
        "# Create RAG chain\n",
        "chain_multimodal_rag = multi_modal_rag_chain(retriever_multi_vector_img)"
      ]
    },
    {
      "cell_type": "code",
      "execution_count": 96,
      "metadata": {
        "id": "7yhp9kS-7Rv2"
      },
      "outputs": [],
      "source": [
        "query = \"\"\"What is the VICE CHANCELLOR'S MESSAGE  Give me One Paragraph on it?\"\"\"\n",
        "docs = retriever_multi_vector_img.get_relevant_documents(query, limit=1)"
      ]
    },
    {
      "cell_type": "code",
      "execution_count": 97,
      "metadata": {
        "colab": {
          "base_uri": "https://localhost:8080/"
        },
        "id": "HuA1bTOy7gvN",
        "outputId": "cd4be001-5590-4696-a4fd-28fa974dce18"
      },
      "outputs": [
        {
          "name": "stdout",
          "output_type": "stream",
          "text": [
            "[\"VICE CHANCELLOR'S MESSAGE\\n\\nDespite challenges and difficulties being faced by the administration, a concerted effort, with the help of faculty and staff, is being made to achieve the milestones set for teaching, research, commercialization, entrepreneurship and better learning outcomes in all programs. These efforts have led to improvement in quality of education, services as well as national and international ranking of the University. Moreover, stronger linkages with alumni, industry, Government and international partners are being pursued.\\n\\n6\\n\\n7\\n\\n8\\n\\n9\\n\\n10\\n\\n11\\n\\n12\\n\\nIt is a great honor for me to serve my alma mater, UET, which last year celebrated hundred years of excellence in engineering education. The realignment of institute’s vision and mission has led to a rapid growth in research, innovation as well as quality education, which are necessary for technological development in the country and ultimately, financial independence.\\n\\n13\\n\\n14\\n\\n15\\n\\n16\\n\\n17\\n\\nI congratulate you for choosing UET and accepting the challenge to become a well-rounded individual who has both the advanced knowledge in his field and integrity to lead technological progress and confront societal challenges.\\n\\n18\\n\\n19\\n\\n20\\n\\n21\\n\\n22\\n\\nPROF. DR. HABIB UR REHMAN Vice Chancellor University of Engineering and Technology, Lahore\\n\\n23 24 25 26\\n\\n4\\n\\nwww.uet.edu.pk\\n\\nPostgraduate Prospectus 2023\\n\\n1\\n\\nUNIVERSITY OF ENGINEERING AND TECHNOLOGY LAHORE\\n\\n2 3\\n\\n4\\n\\n5\\n\\nChancellor MUHAMMAD BALIGH-UR-REHMAN Governor of Punjab\\n\\n6\\n\\n7\\n\\n8\\n\\n9\\n\\nVice Chancellor PROF. DR. HABIB UR REHMAN\\n\\n10\\n\\n11\\n\\n12\\n\\nRegistrar MUHAMMAD ASIF\\n\\n13\\n\\n14\\n\\n15\\n\\nController of Examinations MUHAMMAD ZARGHAM NUSRAT\\n\\n16\\n\\n17\\n\\n18\\n\\nTreasurer IMRAN BABAR\\n\\n19\\n\\n20\\n\\n5\\n\\nwww.uet.edu.pk\\n\\nPostgraduate Prospectus 2023\\n\\nDEANS OF FACULTIES\\n\\n1\\n\\n2\\n\\nFaculty of Electrical Engineering\\n\\n3\\n\\nPROF. DR. MUHAMMAD SHOAIB\\n\\n4\\n\\n5\\n\\nFaculty of Mechanical Engineering\\n\\n6\\n\\nPROF. DR-ING. NAVEED RAMZAN\\n\\n7\\n\\n8\\n\\nFaculty of Civil Engineering\\n\\n9\\n\\nPROF. DR-ING. NAVEED RAMZAN\\n\\n10\\n\\n11\\n\\nFaculty of Chemical, Metallurgical & Polymer Engineering\\n\\n12\\n\\nPROF. DR-ING. NAVEED RAMZAN\\n\\n13\\n\\n14\\n\\nFaculty of Earth Sciences & Engineering\\n\\n15\\n\\nPROF. DR. MUHAMMAD ZUBAIR ABU BAKAR\\n\\n16\\n\\n17\\n\\nFaculty of Architecture & Planning\\n\\n18\\n\\nPROF. DR. RIZWAN HAMEED\\n\\n19\\n\\n20\\n\\nFaculty of Natural Sciences, Humanities & Islamic Studies\\n\\n21\\n\\nPROF. DR. MUHAMMAD SHAHID RAFIQUE\\n\\n22\\n\\n23\\n\\n6\\n\\nPostgraduate Prospectus 2023\\n\\nwww.uet.edu.pk\", \"Postgraduate Prospectus 2023         www.uet.edu.pk       1   \\n\\nPostgraduate Prospectus 2023\\n\\n1\\n\\n1\\n\\nPostgraduate Prospectus 2023\\n\\nwww.uet.edu.pk\\n\\n1 2 3 4 5 6 7 8 9 10 11\\n\\nVISION\\n\\n12\\n\\nTo generate knowledge for global competitive advantage and become\\n\\n13 14 15 16 17 18 19 20 21 22\\n\\nA leading world class research university.\\n\\n23 24 25 26\\n\\nMISSION\\n\\n27\\n\\nTo play a leading role as a university of engineering and technology, in teaching, Innovation and commercialization that is internationally relevant and has a direct bearing on national industrial, technological and socio-economic development.\\n\\n28\\n\\n29 30 31 32 33\\n\\n2\\n\\nPostgraduate Prospectus 2023\\n\\nwww.uet.edu.pk\\n\\n1 2 3 4 5 6 7\\n\\nCHANCELLOR'S MESSAGE\\n\\nThe University of Engineering and Technology (UET) Lahore holds a place of eminence among the prestigious engineering universities of the world. Being a pioneering institution of engineering and technology in Pakistan, UET has unlocked all its potential in imparting quality education, enabling the students to display scholarly autonomy in learning and research and contribute to sustainable development. The recent QS ranking of UET Lahore in engineering and technology evidently substantiates the competence, commitment, and efforts of the faculty, administration and students. With the largest number of Outcome Based Education (OBE) accredited programs in Pakistan, UET Lahore is also a flag bearer of quality engineering education. HEC research grants and international funding worth hundreds of million of rupees won by the faculty members of UET collaboration aimed\\n\\n8\\n\\n9\\n\\n10\\n\\n11\\n\\n12\\n\\n13\\n\\n14\\n\\n15\\n\\n16\\n\\nat solving major social, educational and technical problems through research projects. The recent strides and contributions of UET Lahore in digitalizing\\n\\n17\\n\\nscientific and technological education in Pakistani universities are highly remarkable. I am confident that UET will keep expanding its horizons through\\n\\n18\\n\\nexternal linkages aimed at improving the quality of research and education at its main campus, sub-campuses and affiliated colleges.\\n\\n19\\n\\n20 21 22 23 24 25 26 27 28\\n\\nMuhammad Baligh-ur-Rehman Governor Punjab Chancellor University of Engineering & Technology, Lahore\\n\\n3\\n\\nPostgraduate Prospectus 2023\\n\\nwww.uet.edu.pk\\n\\n1 2 3 4 5\", '3', 'Director Research, Innovation and Commercialization DR. MUHAMMAD AZEEM RAZA Director Students Affairs PROF. DR. ASIF ALI QAISER Director Studies PROF. DR. AMMAD HASSAN KHAN Coordinator International Students Office DR. AMNA NIAZI Senior Warden PROF. DR. MUHAMMAD MUSHTAQ Convener Admission Committee / In-charge Students Section DR. ASIM LOAN Focal Person Higher Education Commission DR. MUHAMMAD AZEEM RAZA Director Planning and Development DR. QASIM MANZOOR Chairman Health Committee PROF. DR. KASHIF JAVED Project Director Lahore Campus ENGR. ASAD MASOOD Chairman Transport Committee PROF. DR. ZIA-UR-REHMAN Project Director University City Campus ENGR. AWAIS MALIK Chairman Library Committee PROF. DR. ASADULLAH QAZI Project Director Faisalabad Campus ENGR. AWAIS MALIK Chairman Proctorial Board PROF. DR. MUHAMMAD SHOAIB Resident Officer MUHAMMAD ASIF Chairman Sports Committee PROF. DR. SHAKER MAHMOOD MAYO Resident Auditor DR. ZUBAIR FAROOQ Director Repair and Maintenance Centre PROF. DR. WAQAR MAHMOOD Public Relations Officer Ms. SHAHIDA NAZEER Director Quality Enhancement Cell PROF.DR. FARHAN MAHMOOD']\n"
          ]
        }
      ],
      "source": [
        "print(docs)"
      ]
    },
    {
      "cell_type": "code",
      "execution_count": 98,
      "metadata": {
        "colab": {
          "base_uri": "https://localhost:8080/"
        },
        "id": "LLBZgLbf7iuS",
        "outputId": "bebbd6dd-4f53-4a30-847c-ce07672bc7e6"
      },
      "outputs": [
        {
          "data": {
            "text/plain": [
              "{'images': [],\n",
              " 'texts': [\"VICE CHANCELLOR'S MESSAGE\\n\\nDespite challenges and difficulties being faced by the administration, a concerted effort, with the help of faculty and staff, is being made to achieve the milestones set for teaching, research, commercialization, entrepreneurship and better learning outcomes in all programs. These efforts have led to improvement in quality of education, services as well as national and international ranking of the University. Moreover, stronger linkages with alumni, industry, Government and international partners are being pursued.\\n\\n6\\n\\n7\\n\\n8\\n\\n9\\n\\n10\\n\\n11\\n\\n12\\n\\nIt is a great honor for me to serve my alma mater, UET, which last year celebrated hundred years of excellence in engineering education. The realignment of institute’s vision and mission has led to a rapid growth in research, innovation as well as quality education, which are necessary for technological development in the country and ultimately, financial independence.\\n\\n13\\n\\n14\\n\\n15\\n\\n16\\n\\n17\\n\\nI congratulate you for choosing UET and accepting the challenge to become a well-rounded individual who has both the advanced knowledge in his field and integrity to lead technological progress and confront societal challenges.\\n\\n18\\n\\n19\\n\\n20\\n\\n21\\n\\n22\\n\\nPROF. DR. HABIB UR REHMAN Vice Chancellor University of Engineering and Technology, Lahore\\n\\n23 24 25 26\\n\\n4\\n\\nwww.uet.edu.pk\\n\\nPostgraduate Prospectus 2023\\n\\n1\\n\\nUNIVERSITY OF ENGINEERING AND TECHNOLOGY LAHORE\\n\\n2 3\\n\\n4\\n\\n5\\n\\nChancellor MUHAMMAD BALIGH-UR-REHMAN Governor of Punjab\\n\\n6\\n\\n7\\n\\n8\\n\\n9\\n\\nVice Chancellor PROF. DR. HABIB UR REHMAN\\n\\n10\\n\\n11\\n\\n12\\n\\nRegistrar MUHAMMAD ASIF\\n\\n13\\n\\n14\\n\\n15\\n\\nController of Examinations MUHAMMAD ZARGHAM NUSRAT\\n\\n16\\n\\n17\\n\\n18\\n\\nTreasurer IMRAN BABAR\\n\\n19\\n\\n20\\n\\n5\\n\\nwww.uet.edu.pk\\n\\nPostgraduate Prospectus 2023\\n\\nDEANS OF FACULTIES\\n\\n1\\n\\n2\\n\\nFaculty of Electrical Engineering\\n\\n3\\n\\nPROF. DR. MUHAMMAD SHOAIB\\n\\n4\\n\\n5\\n\\nFaculty of Mechanical Engineering\\n\\n6\\n\\nPROF. DR-ING. NAVEED RAMZAN\\n\\n7\\n\\n8\\n\\nFaculty of Civil Engineering\\n\\n9\\n\\nPROF. DR-ING. NAVEED RAMZAN\\n\\n10\\n\\n11\\n\\nFaculty of Chemical, Metallurgical & Polymer Engineering\\n\\n12\\n\\nPROF. DR-ING. NAVEED RAMZAN\\n\\n13\\n\\n14\\n\\nFaculty of Earth Sciences & Engineering\\n\\n15\\n\\nPROF. DR. MUHAMMAD ZUBAIR ABU BAKAR\\n\\n16\\n\\n17\\n\\nFaculty of Architecture & Planning\\n\\n18\\n\\nPROF. DR. RIZWAN HAMEED\\n\\n19\\n\\n20\\n\\nFaculty of Natural Sciences, Humanities & Islamic Studies\\n\\n21\\n\\nPROF. DR. MUHAMMAD SHAHID RAFIQUE\\n\\n22\\n\\n23\\n\\n6\\n\\nPostgraduate Prospectus 2023\\n\\nwww.uet.edu.pk\",\n",
              "  \"Postgraduate Prospectus 2023         www.uet.edu.pk       1   \\n\\nPostgraduate Prospectus 2023\\n\\n1\\n\\n1\\n\\nPostgraduate Prospectus 2023\\n\\nwww.uet.edu.pk\\n\\n1 2 3 4 5 6 7 8 9 10 11\\n\\nVISION\\n\\n12\\n\\nTo generate knowledge for global competitive advantage and become\\n\\n13 14 15 16 17 18 19 20 21 22\\n\\nA leading world class research university.\\n\\n23 24 25 26\\n\\nMISSION\\n\\n27\\n\\nTo play a leading role as a university of engineering and technology, in teaching, Innovation and commercialization that is internationally relevant and has a direct bearing on national industrial, technological and socio-economic development.\\n\\n28\\n\\n29 30 31 32 33\\n\\n2\\n\\nPostgraduate Prospectus 2023\\n\\nwww.uet.edu.pk\\n\\n1 2 3 4 5 6 7\\n\\nCHANCELLOR'S MESSAGE\\n\\nThe University of Engineering and Technology (UET) Lahore holds a place of eminence among the prestigious engineering universities of the world. Being a pioneering institution of engineering and technology in Pakistan, UET has unlocked all its potential in imparting quality education, enabling the students to display scholarly autonomy in learning and research and contribute to sustainable development. The recent QS ranking of UET Lahore in engineering and technology evidently substantiates the competence, commitment, and efforts of the faculty, administration and students. With the largest number of Outcome Based Education (OBE) accredited programs in Pakistan, UET Lahore is also a flag bearer of quality engineering education. HEC research grants and international funding worth hundreds of million of rupees won by the faculty members of UET collaboration aimed\\n\\n8\\n\\n9\\n\\n10\\n\\n11\\n\\n12\\n\\n13\\n\\n14\\n\\n15\\n\\n16\\n\\nat solving major social, educational and technical problems through research projects. The recent strides and contributions of UET Lahore in digitalizing\\n\\n17\\n\\nscientific and technological education in Pakistani universities are highly remarkable. I am confident that UET will keep expanding its horizons through\\n\\n18\\n\\nexternal linkages aimed at improving the quality of research and education at its main campus, sub-campuses and affiliated colleges.\\n\\n19\\n\\n20 21 22 23 24 25 26 27 28\\n\\nMuhammad Baligh-ur-Rehman Governor Punjab Chancellor University of Engineering & Technology, Lahore\\n\\n3\\n\\nPostgraduate Prospectus 2023\\n\\nwww.uet.edu.pk\\n\\n1 2 3 4 5\",\n",
              "  '3',\n",
              "  'Director Research, Innovation and Commercialization DR. MUHAMMAD AZEEM RAZA Director Students Affairs PROF. DR. ASIF ALI QAISER Director Studies PROF. DR. AMMAD HASSAN KHAN Coordinator International Students Office DR. AMNA NIAZI Senior Warden PROF. DR. MUHAMMAD MUSHTAQ Convener Admission Committee / In-charge Students Section DR. ASIM LOAN Focal Person Higher Education Commission DR. MUHAMMAD AZEEM RAZA Director Planning and Development DR. QASIM MANZOOR Chairman Health Committee PROF. DR. KASHIF JAVED Project Director Lahore Campus ENGR. ASAD MASOOD Chairman Transport Committee PROF. DR. ZIA-UR-REHMAN Project Director University City Campus ENGR. AWAIS MALIK Chairman Library Committee PROF. DR. ASADULLAH QAZI Project Director Faisalabad Campus ENGR. AWAIS MALIK Chairman Proctorial Board PROF. DR. MUHAMMAD SHOAIB Resident Officer MUHAMMAD ASIF Chairman Sports Committee PROF. DR. SHAKER MAHMOOD MAYO Resident Auditor DR. ZUBAIR FAROOQ Director Repair and Maintenance Centre PROF. DR. WAQAR MAHMOOD Public Relations Officer Ms. SHAHIDA NAZEER Director Quality Enhancement Cell PROF.DR. FARHAN MAHMOOD']}"
            ]
          },
          "execution_count": 98,
          "metadata": {},
          "output_type": "execute_result"
        }
      ],
      "source": [
        "split_image_text_types(docs)"
      ]
    },
    {
      "cell_type": "code",
      "execution_count": 90,
      "metadata": {
        "colab": {
          "base_uri": "https://localhost:8080/",
          "height": 140
        },
        "id": "dUPjW4BI7pPx",
        "outputId": "40f413b1-8c87-4d2a-c18a-353d4cf40538"
      },
      "outputs": [
        {
          "data": {
            "application/vnd.google.colaboratory.intrinsic+json": {
              "type": "string"
            },
            "text/plain": [
              "\"VICE CHANCELLOR'S MESSAGE\\n\\nDespite challenges and difficulties being faced by the administration, a concerted effort, with the help of faculty and staff, is being made to achieve the milestones set for teaching, research, commercialization, entrepreneurship and better learning outcomes in all programs. These efforts have led to improvement in quality of education, services as well as national and international ranking of the University. Moreover, stronger linkages with alumni, industry, Government and international partners are being pursued.\\n\\n6\\n\\n7\\n\\n8\\n\\n9\\n\\n10\\n\\n11\\n\\n12\\n\\nIt is a great honor for me to serve my alma mater, UET, which last year celebrated hundred years of excellence in engineering education. The realignment of institute’s vision and mission has led to a rapid growth in research, innovation as well as quality education, which are necessary for technological development in the country and ultimately, financial independence.\\n\\n13\\n\\n14\\n\\n15\\n\\n16\\n\\n17\\n\\nI congratulate you for choosing UET and accepting the challenge to become a well-rounded individual who has both the advanced knowledge in his field and integrity to lead technological progress and confront societal challenges.\\n\\n18\\n\\n19\\n\\n20\\n\\n21\\n\\n22\\n\\nPROF. DR. HABIB UR REHMAN Vice Chancellor University of Engineering and Technology, Lahore\\n\\n23 24 25 26\\n\\n4\\n\\nwww.uet.edu.pk\\n\\nPostgraduate Prospectus 2023\\n\\n1\\n\\nUNIVERSITY OF ENGINEERING AND TECHNOLOGY LAHORE\\n\\n2 3\\n\\n4\\n\\n5\\n\\nChancellor MUHAMMAD BALIGH-UR-REHMAN Governor of Punjab\\n\\n6\\n\\n7\\n\\n8\\n\\n9\\n\\nVice Chancellor PROF. DR. HABIB UR REHMAN\\n\\n10\\n\\n11\\n\\n12\\n\\nRegistrar MUHAMMAD ASIF\\n\\n13\\n\\n14\\n\\n15\\n\\nController of Examinations MUHAMMAD ZARGHAM NUSRAT\\n\\n16\\n\\n17\\n\\n18\\n\\nTreasurer IMRAN BABAR\\n\\n19\\n\\n20\\n\\n5\\n\\nwww.uet.edu.pk\\n\\nPostgraduate Prospectus 2023\\n\\nDEANS OF FACULTIES\\n\\n1\\n\\n2\\n\\nFaculty of Electrical Engineering\\n\\n3\\n\\nPROF. DR. MUHAMMAD SHOAIB\\n\\n4\\n\\n5\\n\\nFaculty of Mechanical Engineering\\n\\n6\\n\\nPROF. DR-ING. NAVEED RAMZAN\\n\\n7\\n\\n8\\n\\nFaculty of Civil Engineering\\n\\n9\\n\\nPROF. DR-ING. NAVEED RAMZAN\\n\\n10\\n\\n11\\n\\nFaculty of Chemical, Metallurgical & Polymer Engineering\\n\\n12\\n\\nPROF. DR-ING. NAVEED RAMZAN\\n\\n13\\n\\n14\\n\\nFaculty of Earth Sciences & Engineering\\n\\n15\\n\\nPROF. DR. MUHAMMAD ZUBAIR ABU BAKAR\\n\\n16\\n\\n17\\n\\nFaculty of Architecture & Planning\\n\\n18\\n\\nPROF. DR. RIZWAN HAMEED\\n\\n19\\n\\n20\\n\\nFaculty of Natural Sciences, Humanities & Islamic Studies\\n\\n21\\n\\nPROF. DR. MUHAMMAD SHAHID RAFIQUE\\n\\n22\\n\\n23\\n\\n6\\n\\nPostgraduate Prospectus 2023\\n\\nwww.uet.edu.pk\""
            ]
          },
          "execution_count": 90,
          "metadata": {},
          "output_type": "execute_result"
        }
      ],
      "source": [
        "docs[0]"
      ]
    },
    {
      "cell_type": "code",
      "execution_count": 91,
      "metadata": {
        "colab": {
          "base_uri": "https://localhost:8080/",
          "height": 140
        },
        "id": "QbzFzxVI7rzJ",
        "outputId": "079be1d2-b4e5-4904-f034-522a1a28168f"
      },
      "outputs": [
        {
          "data": {
            "application/vnd.google.colaboratory.intrinsic+json": {
              "type": "string"
            },
            "text/plain": [
              "\"Postgraduate Prospectus 2023         www.uet.edu.pk       1   \\n\\nPostgraduate Prospectus 2023\\n\\n1\\n\\n1\\n\\nPostgraduate Prospectus 2023\\n\\nwww.uet.edu.pk\\n\\n1 2 3 4 5 6 7 8 9 10 11\\n\\nVISION\\n\\n12\\n\\nTo generate knowledge for global competitive advantage and become\\n\\n13 14 15 16 17 18 19 20 21 22\\n\\nA leading world class research university.\\n\\n23 24 25 26\\n\\nMISSION\\n\\n27\\n\\nTo play a leading role as a university of engineering and technology, in teaching, Innovation and commercialization that is internationally relevant and has a direct bearing on national industrial, technological and socio-economic development.\\n\\n28\\n\\n29 30 31 32 33\\n\\n2\\n\\nPostgraduate Prospectus 2023\\n\\nwww.uet.edu.pk\\n\\n1 2 3 4 5 6 7\\n\\nCHANCELLOR'S MESSAGE\\n\\nThe University of Engineering and Technology (UET) Lahore holds a place of eminence among the prestigious engineering universities of the world. Being a pioneering institution of engineering and technology in Pakistan, UET has unlocked all its potential in imparting quality education, enabling the students to display scholarly autonomy in learning and research and contribute to sustainable development. The recent QS ranking of UET Lahore in engineering and technology evidently substantiates the competence, commitment, and efforts of the faculty, administration and students. With the largest number of Outcome Based Education (OBE) accredited programs in Pakistan, UET Lahore is also a flag bearer of quality engineering education. HEC research grants and international funding worth hundreds of million of rupees won by the faculty members of UET collaboration aimed\\n\\n8\\n\\n9\\n\\n10\\n\\n11\\n\\n12\\n\\n13\\n\\n14\\n\\n15\\n\\n16\\n\\nat solving major social, educational and technical problems through research projects. The recent strides and contributions of UET Lahore in digitalizing\\n\\n17\\n\\nscientific and technological education in Pakistani universities are highly remarkable. I am confident that UET will keep expanding its horizons through\\n\\n18\\n\\nexternal linkages aimed at improving the quality of research and education at its main campus, sub-campuses and affiliated colleges.\\n\\n19\\n\\n20 21 22 23 24 25 26 27 28\\n\\nMuhammad Baligh-ur-Rehman Governor Punjab Chancellor University of Engineering & Technology, Lahore\\n\\n3\\n\\nPostgraduate Prospectus 2023\\n\\nwww.uet.edu.pk\\n\\n1 2 3 4 5\""
            ]
          },
          "execution_count": 91,
          "metadata": {},
          "output_type": "execute_result"
        }
      ],
      "source": [
        "docs[1]"
      ]
    },
    {
      "cell_type": "code",
      "execution_count": 92,
      "metadata": {
        "colab": {
          "base_uri": "https://localhost:8080/",
          "height": 140
        },
        "id": "UidlEzGY7vSu",
        "outputId": "99e9e201-2c4b-48cc-ff08-1f2caa9ab38a"
      },
      "outputs": [
        {
          "data": {
            "application/vnd.google.colaboratory.intrinsic+json": {
              "type": "string"
            },
            "text/plain": [
              "'CHAIRPERSONS/ DIRECTORS OF TEACHING DEPARTMENTS/ INSTITUTES\\n\\nElectrical Engineering PROF. DR. MUHAMMAD TAHIR Computer Science PROF. DR. MUHAMMAD USMAN GHANI KHAN Computer Engineering PROF. DR. ALI HAMMAD AKBAR Mechanical Engineering PROF. DR. NASIR HAYAT Industrial & Manufacturing Engineering PROF. DR. QAISER SALEEM Mechatronics & Control Engineering DR. ALI RAZA Civil Engineering PROF. DR. KHALID FAROOQ Institute of Environmental Engineering & Research PROF. DR. SAJJAD H. SHEIKH Architectural Engineering & Design PROF. DR. SAJJAD MUBIN Transportation Engineering & Management PROF. DR. AMMAD HASSAN KHAN Chemical Engineering PROF. DR. SAIMA YASIN Polymer & Process Engineering PROF. DR. ASIF ALI QAISER\\n\\n1\\n\\nDepartment of Geological Engineering DR. MUHAMMAD FAROOQ AHMED Petroleum and Gas Engineering PROF. DR. MUHAMMAD KHURRAM ZAHOOR Metallurgical & Materials Engineering PROF. DR-ING. FURQAN AHMED School of Architecture & Design PROF. DR. RIZWAN HAMEED Architecture DR. MUNAZZA AKHTAR Product & Industrial Design DR. ATIF BILAL ASLAM City & Regional Planning PROF. DR. SHAKER MAHMOOD MAYO Physics PROF. DR. ANWAR LATIF Chemistry PROF. DR. FARHAT YASMEEN Mathematics PROF. DR. MUHAMMAD MUSHTAQ Humanities & Social Sciences Ms ALIA SALEEM NAUSHAHI Islamic Studies DR. HAFIZ MUHAMMAD SHAHBAZ Institute of Business and Management PROF. DR. NASIR MALIK\\n\\n2\\n\\nDepartment of Mining Engineering DR. SHAHAB SAQIB Automotive Engineering Center DR. ALI HUSSAIN KAZIM\\n\\n7\\n\\nwww.uet.edu.pk\\n\\nPostgraduate Prospectus 2023\\n\\nHEADS OF NON-TEACHING DEPARTMENTS\\n\\n1'"
            ]
          },
          "execution_count": 92,
          "metadata": {},
          "output_type": "execute_result"
        }
      ],
      "source": [
        "# We get back relevant images\n",
        "docs[2]"
      ]
    },
    {
      "cell_type": "code",
      "execution_count": 93,
      "metadata": {
        "colab": {
          "base_uri": "https://localhost:8080/",
          "height": 53
        },
        "id": "G5hkYaDpheAh",
        "outputId": "fa6d9228-0c69-42c0-ce88-9f6f3c672973"
      },
      "outputs": [
        {
          "data": {
            "application/vnd.google.colaboratory.intrinsic+json": {
              "type": "string"
            },
            "text/plain": [
              "'Director Students Financial Aid & Career Services PROF.DR. NOOR KHAN\\n\\nDirector, Al-Khawarizmi Institute of Computer Sciences PROF. DR. WAQAR MAHMOOD\\n\\n2\\n\\n3\\n\\n8\\n\\nPostgraduate Prospectus 2023\\n\\nwww.uet.edu.pk\\n\\n1\\n\\nACADEMIC CALENDAR (2023-2024)\\n\\n2\\n\\nFall Semester'"
            ]
          },
          "execution_count": 93,
          "metadata": {},
          "output_type": "execute_result"
        }
      ],
      "source": [
        "docs[3]"
      ]
    },
    {
      "cell_type": "code",
      "execution_count": 99,
      "metadata": {
        "colab": {
          "base_uri": "https://localhost:8080/"
        },
        "id": "ZKD31dXuh7Xo",
        "outputId": "08432164-6d55-4681-8d9e-623b15fab317"
      },
      "outputs": [
        {
          "name": "stdout",
          "output_type": "stream",
          "text": [
            "VICE CHANCELLOR'S MESSAGE\n",
            "\n",
            "Despite challenges and difficulties being faced by the administration, a concerted effort, with the help of faculty and staff, is being made to achieve the milestones set for teaching, research, commercialization, entrepreneurship and better learning outcomes in all programs. These efforts have led to improvement in quality of education, services as well as national and international ranking of the University. Moreover, stronger linkages with alumni, industry, Government and international partners are being pursued.\n",
            "\n",
            "6\n",
            "\n",
            "7\n",
            "\n",
            "8\n",
            "\n",
            "9\n",
            "\n",
            "10\n",
            "\n",
            "11\n",
            "\n",
            "12\n",
            "\n",
            "It is a great honor for me to serve my alma mater, UET, which last year celebrated hundred years of excellence in engineering education. The realignment of institute’s vision and mission has led to a rapid growth in research, innovation as well as quality education, which are necessary for technological development in the country and ultimately, financial independence.\n",
            "\n",
            "13\n",
            "\n",
            "14\n",
            "\n",
            "15\n",
            "\n",
            "16\n",
            "\n",
            "17\n",
            "\n",
            "I congratulate you for choosing UET and accepting the challenge to become a well-rounded individual who has both the advanced knowledge in his field and integrity to lead technological progress and confront societal challenges.\n",
            "\n",
            "18\n",
            "\n",
            "19\n",
            "\n",
            "20\n",
            "\n",
            "21\n",
            "\n",
            "22\n",
            "\n",
            "PROF. DR. HABIB UR REHMAN Vice Chancellor University of Engineering and Technology, Lahore\n",
            "\n",
            "23 24 25 26\n",
            "\n",
            "4\n",
            "\n",
            "www.uet.edu.pk\n",
            "\n",
            "Postgraduate Prospectus 2023\n",
            "\n",
            "1\n",
            "\n",
            "UNIVERSITY OF ENGINEERING AND TECHNOLOGY LAHORE\n",
            "\n",
            "2 3\n",
            "\n",
            "4\n",
            "\n",
            "5\n",
            "\n",
            "Chancellor MUHAMMAD BALIGH-UR-REHMAN Governor of Punjab\n",
            "\n",
            "6\n",
            "\n",
            "7\n",
            "\n",
            "8\n",
            "\n",
            "9\n",
            "\n",
            "Vice Chancellor PROF. DR. HABIB UR REHMAN\n",
            "\n",
            "10\n",
            "\n",
            "11\n",
            "\n",
            "12\n",
            "\n",
            "Registrar MUHAMMAD ASIF\n",
            "\n",
            "13\n",
            "\n",
            "14\n",
            "\n",
            "15\n",
            "\n",
            "Controller of Examinations MUHAMMAD ZARGHAM NUSRAT\n",
            "\n",
            "16\n",
            "\n",
            "17\n",
            "\n",
            "18\n",
            "\n",
            "Treasurer IMRAN BABAR\n",
            "\n",
            "19\n",
            "\n",
            "20\n",
            "\n",
            "5\n",
            "\n",
            "www.uet.edu.pk\n",
            "\n",
            "Postgraduate Prospectus 2023\n",
            "\n",
            "DEANS OF FACULTIES\n",
            "\n",
            "1\n",
            "\n",
            "2\n",
            "\n",
            "Faculty of Electrical Engineering\n",
            "\n",
            "3\n",
            "\n",
            "PROF. DR. MUHAMMAD SHOAIB\n",
            "\n",
            "4\n",
            "\n",
            "5\n",
            "\n",
            "Faculty of Mechanical Engineering\n",
            "\n",
            "6\n",
            "\n",
            "PROF. DR-ING. NAVEED RAMZAN\n",
            "\n",
            "7\n",
            "\n",
            "8\n",
            "\n",
            "Faculty of Civil Engineering\n",
            "\n",
            "9\n",
            "\n",
            "PROF. DR-ING. NAVEED RAMZAN\n",
            "\n",
            "10\n",
            "\n",
            "11\n",
            "\n",
            "Faculty of Chemical, Metallurgical & Polymer Engineering\n",
            "\n",
            "12\n",
            "\n",
            "PROF. DR-ING. NAVEED RAMZAN\n",
            "\n",
            "13\n",
            "\n",
            "14\n",
            "\n",
            "Faculty of Earth Sciences & Engineering\n",
            "\n",
            "15\n",
            "\n",
            "PROF. DR. MUHAMMAD ZUBAIR ABU BAKAR\n",
            "\n",
            "16\n",
            "\n",
            "17\n",
            "\n",
            "Faculty of Architecture & Planning\n",
            "\n",
            "18\n",
            "\n",
            "PROF. DR. RIZWAN HAMEED\n",
            "\n",
            "19\n",
            "\n",
            "20\n",
            "\n",
            "Faculty of Natural Sciences, Humanities & Islamic Studies\n",
            "\n",
            "21\n",
            "\n",
            "PROF. DR. MUHAMMAD SHAHID RAFIQUE\n",
            "\n",
            "22\n",
            "\n",
            "23\n",
            "\n",
            "6\n",
            "\n",
            "Postgraduate Prospectus 2023\n",
            "\n",
            "www.uet.edu.pk\n",
            "Postgraduate Prospectus 2023         www.uet.edu.pk       1   \n",
            "\n",
            "Postgraduate Prospectus 2023\n",
            "\n",
            "1\n",
            "\n",
            "1\n",
            "\n",
            "Postgraduate Prospectus 2023\n",
            "\n",
            "www.uet.edu.pk\n",
            "\n",
            "1 2 3 4 5 6 7 8 9 10 11\n",
            "\n",
            "VISION\n",
            "\n",
            "12\n",
            "\n",
            "To generate knowledge for global competitive advantage and become\n",
            "\n",
            "13 14 15 16 17 18 19 20 21 22\n",
            "\n",
            "A leading world class research university.\n",
            "\n",
            "23 24 25 26\n",
            "\n",
            "MISSION\n",
            "\n",
            "27\n",
            "\n",
            "To play a leading role as a university of engineering and technology, in teaching, Innovation and commercialization that is internationally relevant and has a direct bearing on national industrial, technological and socio-economic development.\n",
            "\n",
            "28\n",
            "\n",
            "29 30 31 32 33\n",
            "\n",
            "2\n",
            "\n",
            "Postgraduate Prospectus 2023\n",
            "\n",
            "www.uet.edu.pk\n",
            "\n",
            "1 2 3 4 5 6 7\n",
            "\n",
            "CHANCELLOR'S MESSAGE\n",
            "\n",
            "The University of Engineering and Technology (UET) Lahore holds a place of eminence among the prestigious engineering universities of the world. Being a pioneering institution of engineering and technology in Pakistan, UET has unlocked all its potential in imparting quality education, enabling the students to display scholarly autonomy in learning and research and contribute to sustainable development. The recent QS ranking of UET Lahore in engineering and technology evidently substantiates the competence, commitment, and efforts of the faculty, administration and students. With the largest number of Outcome Based Education (OBE) accredited programs in Pakistan, UET Lahore is also a flag bearer of quality engineering education. HEC research grants and international funding worth hundreds of million of rupees won by the faculty members of UET collaboration aimed\n",
            "\n",
            "8\n",
            "\n",
            "9\n",
            "\n",
            "10\n",
            "\n",
            "11\n",
            "\n",
            "12\n",
            "\n",
            "13\n",
            "\n",
            "14\n",
            "\n",
            "15\n",
            "\n",
            "16\n",
            "\n",
            "at solving major social, educational and technical problems through research projects. The recent strides and contributions of UET Lahore in digitalizing\n",
            "\n",
            "17\n",
            "\n",
            "scientific and technological education in Pakistani universities are highly remarkable. I am confident that UET will keep expanding its horizons through\n",
            "\n",
            "18\n",
            "\n",
            "external linkages aimed at improving the quality of research and education at its main campus, sub-campuses and affiliated colleges.\n",
            "\n",
            "19\n",
            "\n",
            "20 21 22 23 24 25 26 27 28\n",
            "\n",
            "Muhammad Baligh-ur-Rehman Governor Punjab Chancellor University of Engineering & Technology, Lahore\n",
            "\n",
            "3\n",
            "\n",
            "Postgraduate Prospectus 2023\n",
            "\n",
            "www.uet.edu.pk\n",
            "\n",
            "1 2 3 4 5\n",
            "3\n",
            "Director Research, Innovation and Commercialization DR. MUHAMMAD AZEEM RAZA Director Students Affairs PROF. DR. ASIF ALI QAISER Director Studies PROF. DR. AMMAD HASSAN KHAN Coordinator International Students Office DR. AMNA NIAZI Senior Warden PROF. DR. MUHAMMAD MUSHTAQ Convener Admission Committee / In-charge Students Section DR. ASIM LOAN Focal Person Higher Education Commission DR. MUHAMMAD AZEEM RAZA Director Planning and Development DR. QASIM MANZOOR Chairman Health Committee PROF. DR. KASHIF JAVED Project Director Lahore Campus ENGR. ASAD MASOOD Chairman Transport Committee PROF. DR. ZIA-UR-REHMAN Project Director University City Campus ENGR. AWAIS MALIK Chairman Library Committee PROF. DR. ASADULLAH QAZI Project Director Faisalabad Campus ENGR. AWAIS MALIK Chairman Proctorial Board PROF. DR. MUHAMMAD SHOAIB Resident Officer MUHAMMAD ASIF Chairman Sports Committee PROF. DR. SHAKER MAHMOOD MAYO Resident Auditor DR. ZUBAIR FAROOQ Director Repair and Maintenance Centre PROF. DR. WAQAR MAHMOOD Public Relations Officer Ms. SHAHIDA NAZEER Director Quality Enhancement Cell PROF.DR. FARHAN MAHMOOD\n"
          ]
        }
      ],
      "source": [
        "for doc in docs:\n",
        "    if is_image_data(doc):\n",
        "        plt_img_base64(resize_base64_image(doc))\n",
        "    else:\n",
        "            print(doc)"
      ]
    },
    {
      "cell_type": "code",
      "execution_count": 100,
      "metadata": {
        "colab": {
          "base_uri": "https://localhost:8080/",
          "height": 88
        },
        "id": "BQPOU9cl7y-e",
        "outputId": "9c3b810f-6151-4daa-c42b-9daf7e2b69e4"
      },
      "outputs": [
        {
          "data": {
            "application/vnd.google.colaboratory.intrinsic+json": {
              "type": "string"
            },
            "text/plain": [
              "\"The Vice Chancellor's message highlights the University of Engineering and Technology, Lahore's (UET) commitment to achieving its milestones in teaching, research, commercialization, entrepreneurship, and improving learning outcomes.  The message emphasizes the university's efforts to enhance the quality of education and services, leading to improved national and international rankings.  The Vice Chancellor also emphasizes the importance of strengthening relationships with alumni, industry, government, and international partners. \\n\""
            ]
          },
          "execution_count": 100,
          "metadata": {},
          "output_type": "execute_result"
        }
      ],
      "source": [
        "chain_multimodal_rag.invoke(query)"
      ]
    }
  ],
  "metadata": {
    "colab": {
      "provenance": []
    },
    "kernelspec": {
      "display_name": "Python 3",
      "name": "python3"
    },
    "language_info": {
      "name": "python"
    },
    "widgets": {
      "application/vnd.jupyter.widget-state+json": {
        "0bf0678fe0244fb08c572b3419db1884": {
          "model_module": "@jupyter-widgets/controls",
          "model_module_version": "1.5.0",
          "model_name": "FloatProgressModel",
          "state": {
            "_dom_classes": [],
            "_model_module": "@jupyter-widgets/controls",
            "_model_module_version": "1.5.0",
            "_model_name": "FloatProgressModel",
            "_view_count": null,
            "_view_module": "@jupyter-widgets/controls",
            "_view_module_version": "1.5.0",
            "_view_name": "ProgressView",
            "bar_style": "success",
            "description": "",
            "description_tooltip": null,
            "layout": "IPY_MODEL_b908dacb29f64a0686368e9d2c10f8cf",
            "max": 46807446,
            "min": 0,
            "orientation": "horizontal",
            "style": "IPY_MODEL_98427ca964794adf9568731618952cb5",
            "value": 46807446
          }
        },
        "0e1bffc329b64c4d8756842468b9dbd9": {
          "model_module": "@jupyter-widgets/base",
          "model_module_version": "1.2.0",
          "model_name": "LayoutModel",
          "state": {
            "_model_module": "@jupyter-widgets/base",
            "_model_module_version": "1.2.0",
            "_model_name": "LayoutModel",
            "_view_count": null,
            "_view_module": "@jupyter-widgets/base",
            "_view_module_version": "1.2.0",
            "_view_name": "LayoutView",
            "align_content": null,
            "align_items": null,
            "align_self": null,
            "border": null,
            "bottom": null,
            "display": null,
            "flex": null,
            "flex_flow": null,
            "grid_area": null,
            "grid_auto_columns": null,
            "grid_auto_flow": null,
            "grid_auto_rows": null,
            "grid_column": null,
            "grid_gap": null,
            "grid_row": null,
            "grid_template_areas": null,
            "grid_template_columns": null,
            "grid_template_rows": null,
            "height": null,
            "justify_content": null,
            "justify_items": null,
            "left": null,
            "margin": null,
            "max_height": null,
            "max_width": null,
            "min_height": null,
            "min_width": null,
            "object_fit": null,
            "object_position": null,
            "order": null,
            "overflow": null,
            "overflow_x": null,
            "overflow_y": null,
            "padding": null,
            "right": null,
            "top": null,
            "visibility": null,
            "width": null
          }
        },
        "0f46a4beb23e43f490277cef5722f2d1": {
          "model_module": "@jupyter-widgets/base",
          "model_module_version": "1.2.0",
          "model_name": "LayoutModel",
          "state": {
            "_model_module": "@jupyter-widgets/base",
            "_model_module_version": "1.2.0",
            "_model_name": "LayoutModel",
            "_view_count": null,
            "_view_module": "@jupyter-widgets/base",
            "_view_module_version": "1.2.0",
            "_view_name": "LayoutView",
            "align_content": null,
            "align_items": null,
            "align_self": null,
            "border": null,
            "bottom": null,
            "display": null,
            "flex": null,
            "flex_flow": null,
            "grid_area": null,
            "grid_auto_columns": null,
            "grid_auto_flow": null,
            "grid_auto_rows": null,
            "grid_column": null,
            "grid_gap": null,
            "grid_row": null,
            "grid_template_areas": null,
            "grid_template_columns": null,
            "grid_template_rows": null,
            "height": null,
            "justify_content": null,
            "justify_items": null,
            "left": null,
            "margin": null,
            "max_height": null,
            "max_width": null,
            "min_height": null,
            "min_width": null,
            "object_fit": null,
            "object_position": null,
            "order": null,
            "overflow": null,
            "overflow_x": null,
            "overflow_y": null,
            "padding": null,
            "right": null,
            "top": null,
            "visibility": null,
            "width": null
          }
        },
        "1586e31a998d461db568771083d8ea73": {
          "model_module": "@jupyter-widgets/controls",
          "model_module_version": "1.5.0",
          "model_name": "DescriptionStyleModel",
          "state": {
            "_model_module": "@jupyter-widgets/controls",
            "_model_module_version": "1.5.0",
            "_model_name": "DescriptionStyleModel",
            "_view_count": null,
            "_view_module": "@jupyter-widgets/base",
            "_view_module_version": "1.2.0",
            "_view_name": "StyleView",
            "description_width": ""
          }
        },
        "1611ba69605c427a8d1520363b2848ac": {
          "model_module": "@jupyter-widgets/base",
          "model_module_version": "1.2.0",
          "model_name": "LayoutModel",
          "state": {
            "_model_module": "@jupyter-widgets/base",
            "_model_module_version": "1.2.0",
            "_model_name": "LayoutModel",
            "_view_count": null,
            "_view_module": "@jupyter-widgets/base",
            "_view_module_version": "1.2.0",
            "_view_name": "LayoutView",
            "align_content": null,
            "align_items": null,
            "align_self": null,
            "border": null,
            "bottom": null,
            "display": null,
            "flex": null,
            "flex_flow": null,
            "grid_area": null,
            "grid_auto_columns": null,
            "grid_auto_flow": null,
            "grid_auto_rows": null,
            "grid_column": null,
            "grid_gap": null,
            "grid_row": null,
            "grid_template_areas": null,
            "grid_template_columns": null,
            "grid_template_rows": null,
            "height": null,
            "justify_content": null,
            "justify_items": null,
            "left": null,
            "margin": null,
            "max_height": null,
            "max_width": null,
            "min_height": null,
            "min_width": null,
            "object_fit": null,
            "object_position": null,
            "order": null,
            "overflow": null,
            "overflow_x": null,
            "overflow_y": null,
            "padding": null,
            "right": null,
            "top": null,
            "visibility": null,
            "width": null
          }
        },
        "1b8d9a55783a44aeb3de9709c6bb19d8": {
          "model_module": "@jupyter-widgets/controls",
          "model_module_version": "1.5.0",
          "model_name": "HTMLModel",
          "state": {
            "_dom_classes": [],
            "_model_module": "@jupyter-widgets/controls",
            "_model_module_version": "1.5.0",
            "_model_name": "HTMLModel",
            "_view_count": null,
            "_view_module": "@jupyter-widgets/controls",
            "_view_module_version": "1.5.0",
            "_view_name": "HTMLView",
            "description": "",
            "description_tooltip": null,
            "layout": "IPY_MODEL_9af2fc34e7514c6d88d6f6250d0dd7d2",
            "placeholder": "​",
            "style": "IPY_MODEL_7911d956d367447da39991511aa4750e",
            "value": "config.json: 100%"
          }
        },
        "309be3951f164683967c22fdc9169eb3": {
          "model_module": "@jupyter-widgets/controls",
          "model_module_version": "1.5.0",
          "model_name": "HTMLModel",
          "state": {
            "_dom_classes": [],
            "_model_module": "@jupyter-widgets/controls",
            "_model_module_version": "1.5.0",
            "_model_name": "HTMLModel",
            "_view_count": null,
            "_view_module": "@jupyter-widgets/controls",
            "_view_module_version": "1.5.0",
            "_view_name": "HTMLView",
            "description": "",
            "description_tooltip": null,
            "layout": "IPY_MODEL_575dd15ea2e04cc392e0b4979c264015",
            "placeholder": "​",
            "style": "IPY_MODEL_446e63e3c0ff48bbab30988de9185a62",
            "value": " 217M/217M [00:01&lt;00:00, 115MB/s]"
          }
        },
        "34cdc4213ab447a384040b3e8a134f60": {
          "model_module": "@jupyter-widgets/controls",
          "model_module_version": "1.5.0",
          "model_name": "HTMLModel",
          "state": {
            "_dom_classes": [],
            "_model_module": "@jupyter-widgets/controls",
            "_model_module_version": "1.5.0",
            "_model_name": "HTMLModel",
            "_view_count": null,
            "_view_module": "@jupyter-widgets/controls",
            "_view_module_version": "1.5.0",
            "_view_name": "HTMLView",
            "description": "",
            "description_tooltip": null,
            "layout": "IPY_MODEL_680ec143e76942d497378711fe3577c0",
            "placeholder": "​",
            "style": "IPY_MODEL_79e3c64d7ca043549db5a18225787288",
            "value": "model.safetensors: 100%"
          }
        },
        "3872f9e876844910b7c33d3cc6ce55b1": {
          "model_module": "@jupyter-widgets/base",
          "model_module_version": "1.2.0",
          "model_name": "LayoutModel",
          "state": {
            "_model_module": "@jupyter-widgets/base",
            "_model_module_version": "1.2.0",
            "_model_name": "LayoutModel",
            "_view_count": null,
            "_view_module": "@jupyter-widgets/base",
            "_view_module_version": "1.2.0",
            "_view_name": "LayoutView",
            "align_content": null,
            "align_items": null,
            "align_self": null,
            "border": null,
            "bottom": null,
            "display": null,
            "flex": null,
            "flex_flow": null,
            "grid_area": null,
            "grid_auto_columns": null,
            "grid_auto_flow": null,
            "grid_auto_rows": null,
            "grid_column": null,
            "grid_gap": null,
            "grid_row": null,
            "grid_template_areas": null,
            "grid_template_columns": null,
            "grid_template_rows": null,
            "height": null,
            "justify_content": null,
            "justify_items": null,
            "left": null,
            "margin": null,
            "max_height": null,
            "max_width": null,
            "min_height": null,
            "min_width": null,
            "object_fit": null,
            "object_position": null,
            "order": null,
            "overflow": null,
            "overflow_x": null,
            "overflow_y": null,
            "padding": null,
            "right": null,
            "top": null,
            "visibility": null,
            "width": null
          }
        },
        "38791793c95047c8a4a0d7630791457c": {
          "model_module": "@jupyter-widgets/base",
          "model_module_version": "1.2.0",
          "model_name": "LayoutModel",
          "state": {
            "_model_module": "@jupyter-widgets/base",
            "_model_module_version": "1.2.0",
            "_model_name": "LayoutModel",
            "_view_count": null,
            "_view_module": "@jupyter-widgets/base",
            "_view_module_version": "1.2.0",
            "_view_name": "LayoutView",
            "align_content": null,
            "align_items": null,
            "align_self": null,
            "border": null,
            "bottom": null,
            "display": null,
            "flex": null,
            "flex_flow": null,
            "grid_area": null,
            "grid_auto_columns": null,
            "grid_auto_flow": null,
            "grid_auto_rows": null,
            "grid_column": null,
            "grid_gap": null,
            "grid_row": null,
            "grid_template_areas": null,
            "grid_template_columns": null,
            "grid_template_rows": null,
            "height": null,
            "justify_content": null,
            "justify_items": null,
            "left": null,
            "margin": null,
            "max_height": null,
            "max_width": null,
            "min_height": null,
            "min_width": null,
            "object_fit": null,
            "object_position": null,
            "order": null,
            "overflow": null,
            "overflow_x": null,
            "overflow_y": null,
            "padding": null,
            "right": null,
            "top": null,
            "visibility": null,
            "width": null
          }
        },
        "446e63e3c0ff48bbab30988de9185a62": {
          "model_module": "@jupyter-widgets/controls",
          "model_module_version": "1.5.0",
          "model_name": "DescriptionStyleModel",
          "state": {
            "_model_module": "@jupyter-widgets/controls",
            "_model_module_version": "1.5.0",
            "_model_name": "DescriptionStyleModel",
            "_view_count": null,
            "_view_module": "@jupyter-widgets/base",
            "_view_module_version": "1.2.0",
            "_view_name": "StyleView",
            "description_width": ""
          }
        },
        "5227e8a36f294f5d9d214252379ca235": {
          "model_module": "@jupyter-widgets/base",
          "model_module_version": "1.2.0",
          "model_name": "LayoutModel",
          "state": {
            "_model_module": "@jupyter-widgets/base",
            "_model_module_version": "1.2.0",
            "_model_name": "LayoutModel",
            "_view_count": null,
            "_view_module": "@jupyter-widgets/base",
            "_view_module_version": "1.2.0",
            "_view_name": "LayoutView",
            "align_content": null,
            "align_items": null,
            "align_self": null,
            "border": null,
            "bottom": null,
            "display": null,
            "flex": null,
            "flex_flow": null,
            "grid_area": null,
            "grid_auto_columns": null,
            "grid_auto_flow": null,
            "grid_auto_rows": null,
            "grid_column": null,
            "grid_gap": null,
            "grid_row": null,
            "grid_template_areas": null,
            "grid_template_columns": null,
            "grid_template_rows": null,
            "height": null,
            "justify_content": null,
            "justify_items": null,
            "left": null,
            "margin": null,
            "max_height": null,
            "max_width": null,
            "min_height": null,
            "min_width": null,
            "object_fit": null,
            "object_position": null,
            "order": null,
            "overflow": null,
            "overflow_x": null,
            "overflow_y": null,
            "padding": null,
            "right": null,
            "top": null,
            "visibility": null,
            "width": null
          }
        },
        "575dd15ea2e04cc392e0b4979c264015": {
          "model_module": "@jupyter-widgets/base",
          "model_module_version": "1.2.0",
          "model_name": "LayoutModel",
          "state": {
            "_model_module": "@jupyter-widgets/base",
            "_model_module_version": "1.2.0",
            "_model_name": "LayoutModel",
            "_view_count": null,
            "_view_module": "@jupyter-widgets/base",
            "_view_module_version": "1.2.0",
            "_view_name": "LayoutView",
            "align_content": null,
            "align_items": null,
            "align_self": null,
            "border": null,
            "bottom": null,
            "display": null,
            "flex": null,
            "flex_flow": null,
            "grid_area": null,
            "grid_auto_columns": null,
            "grid_auto_flow": null,
            "grid_auto_rows": null,
            "grid_column": null,
            "grid_gap": null,
            "grid_row": null,
            "grid_template_areas": null,
            "grid_template_columns": null,
            "grid_template_rows": null,
            "height": null,
            "justify_content": null,
            "justify_items": null,
            "left": null,
            "margin": null,
            "max_height": null,
            "max_width": null,
            "min_height": null,
            "min_width": null,
            "object_fit": null,
            "object_position": null,
            "order": null,
            "overflow": null,
            "overflow_x": null,
            "overflow_y": null,
            "padding": null,
            "right": null,
            "top": null,
            "visibility": null,
            "width": null
          }
        },
        "680ec143e76942d497378711fe3577c0": {
          "model_module": "@jupyter-widgets/base",
          "model_module_version": "1.2.0",
          "model_name": "LayoutModel",
          "state": {
            "_model_module": "@jupyter-widgets/base",
            "_model_module_version": "1.2.0",
            "_model_name": "LayoutModel",
            "_view_count": null,
            "_view_module": "@jupyter-widgets/base",
            "_view_module_version": "1.2.0",
            "_view_name": "LayoutView",
            "align_content": null,
            "align_items": null,
            "align_self": null,
            "border": null,
            "bottom": null,
            "display": null,
            "flex": null,
            "flex_flow": null,
            "grid_area": null,
            "grid_auto_columns": null,
            "grid_auto_flow": null,
            "grid_auto_rows": null,
            "grid_column": null,
            "grid_gap": null,
            "grid_row": null,
            "grid_template_areas": null,
            "grid_template_columns": null,
            "grid_template_rows": null,
            "height": null,
            "justify_content": null,
            "justify_items": null,
            "left": null,
            "margin": null,
            "max_height": null,
            "max_width": null,
            "min_height": null,
            "min_width": null,
            "object_fit": null,
            "object_position": null,
            "order": null,
            "overflow": null,
            "overflow_x": null,
            "overflow_y": null,
            "padding": null,
            "right": null,
            "top": null,
            "visibility": null,
            "width": null
          }
        },
        "68f0b6abcf2641e990b83215008b8e48": {
          "model_module": "@jupyter-widgets/controls",
          "model_module_version": "1.5.0",
          "model_name": "DescriptionStyleModel",
          "state": {
            "_model_module": "@jupyter-widgets/controls",
            "_model_module_version": "1.5.0",
            "_model_name": "DescriptionStyleModel",
            "_view_count": null,
            "_view_module": "@jupyter-widgets/base",
            "_view_module_version": "1.2.0",
            "_view_name": "StyleView",
            "description_width": ""
          }
        },
        "69df5ee998274a9d80e00e7b1e691661": {
          "model_module": "@jupyter-widgets/controls",
          "model_module_version": "1.5.0",
          "model_name": "ProgressStyleModel",
          "state": {
            "_model_module": "@jupyter-widgets/controls",
            "_model_module_version": "1.5.0",
            "_model_name": "ProgressStyleModel",
            "_view_count": null,
            "_view_module": "@jupyter-widgets/base",
            "_view_module_version": "1.2.0",
            "_view_name": "StyleView",
            "bar_color": null,
            "description_width": ""
          }
        },
        "69f514e4dda44700b061ab613da679c2": {
          "model_module": "@jupyter-widgets/controls",
          "model_module_version": "1.5.0",
          "model_name": "FloatProgressModel",
          "state": {
            "_dom_classes": [],
            "_model_module": "@jupyter-widgets/controls",
            "_model_module_version": "1.5.0",
            "_model_name": "FloatProgressModel",
            "_view_count": null,
            "_view_module": "@jupyter-widgets/controls",
            "_view_module_version": "1.5.0",
            "_view_name": "ProgressView",
            "bar_style": "success",
            "description": "",
            "description_tooltip": null,
            "layout": "IPY_MODEL_5227e8a36f294f5d9d214252379ca235",
            "max": 115434268,
            "min": 0,
            "orientation": "horizontal",
            "style": "IPY_MODEL_69df5ee998274a9d80e00e7b1e691661",
            "value": 115434268
          }
        },
        "6daa940b22e743768d54a92a1835bb50": {
          "model_module": "@jupyter-widgets/controls",
          "model_module_version": "1.5.0",
          "model_name": "DescriptionStyleModel",
          "state": {
            "_model_module": "@jupyter-widgets/controls",
            "_model_module_version": "1.5.0",
            "_model_name": "DescriptionStyleModel",
            "_view_count": null,
            "_view_module": "@jupyter-widgets/base",
            "_view_module_version": "1.2.0",
            "_view_name": "StyleView",
            "description_width": ""
          }
        },
        "74e18bfad79d45debee9d839229f2eaa": {
          "model_module": "@jupyter-widgets/controls",
          "model_module_version": "1.5.0",
          "model_name": "DescriptionStyleModel",
          "state": {
            "_model_module": "@jupyter-widgets/controls",
            "_model_module_version": "1.5.0",
            "_model_name": "DescriptionStyleModel",
            "_view_count": null,
            "_view_module": "@jupyter-widgets/base",
            "_view_module_version": "1.2.0",
            "_view_name": "StyleView",
            "description_width": ""
          }
        },
        "7911d956d367447da39991511aa4750e": {
          "model_module": "@jupyter-widgets/controls",
          "model_module_version": "1.5.0",
          "model_name": "DescriptionStyleModel",
          "state": {
            "_model_module": "@jupyter-widgets/controls",
            "_model_module_version": "1.5.0",
            "_model_name": "DescriptionStyleModel",
            "_view_count": null,
            "_view_module": "@jupyter-widgets/base",
            "_view_module_version": "1.2.0",
            "_view_name": "StyleView",
            "description_width": ""
          }
        },
        "79e3c64d7ca043549db5a18225787288": {
          "model_module": "@jupyter-widgets/controls",
          "model_module_version": "1.5.0",
          "model_name": "DescriptionStyleModel",
          "state": {
            "_model_module": "@jupyter-widgets/controls",
            "_model_module_version": "1.5.0",
            "_model_name": "DescriptionStyleModel",
            "_view_count": null,
            "_view_module": "@jupyter-widgets/base",
            "_view_module_version": "1.2.0",
            "_view_name": "StyleView",
            "description_width": ""
          }
        },
        "7a5f1076aeed453a999f7777d9357f9f": {
          "model_module": "@jupyter-widgets/base",
          "model_module_version": "1.2.0",
          "model_name": "LayoutModel",
          "state": {
            "_model_module": "@jupyter-widgets/base",
            "_model_module_version": "1.2.0",
            "_model_name": "LayoutModel",
            "_view_count": null,
            "_view_module": "@jupyter-widgets/base",
            "_view_module_version": "1.2.0",
            "_view_name": "LayoutView",
            "align_content": null,
            "align_items": null,
            "align_self": null,
            "border": null,
            "bottom": null,
            "display": null,
            "flex": null,
            "flex_flow": null,
            "grid_area": null,
            "grid_auto_columns": null,
            "grid_auto_flow": null,
            "grid_auto_rows": null,
            "grid_column": null,
            "grid_gap": null,
            "grid_row": null,
            "grid_template_areas": null,
            "grid_template_columns": null,
            "grid_template_rows": null,
            "height": null,
            "justify_content": null,
            "justify_items": null,
            "left": null,
            "margin": null,
            "max_height": null,
            "max_width": null,
            "min_height": null,
            "min_width": null,
            "object_fit": null,
            "object_position": null,
            "order": null,
            "overflow": null,
            "overflow_x": null,
            "overflow_y": null,
            "padding": null,
            "right": null,
            "top": null,
            "visibility": null,
            "width": null
          }
        },
        "82c4c9f61063437aa9fe9646ada8d899": {
          "model_module": "@jupyter-widgets/controls",
          "model_module_version": "1.5.0",
          "model_name": "HBoxModel",
          "state": {
            "_dom_classes": [],
            "_model_module": "@jupyter-widgets/controls",
            "_model_module_version": "1.5.0",
            "_model_name": "HBoxModel",
            "_view_count": null,
            "_view_module": "@jupyter-widgets/controls",
            "_view_module_version": "1.5.0",
            "_view_name": "HBoxView",
            "box_style": "",
            "children": [
              "IPY_MODEL_34cdc4213ab447a384040b3e8a134f60",
              "IPY_MODEL_0bf0678fe0244fb08c572b3419db1884",
              "IPY_MODEL_ef895b47596e4f298099e7290798fb2d"
            ],
            "layout": "IPY_MODEL_8b7847aeee6a45ec89ed5a46a872cfe6"
          }
        },
        "8818f0cb29c44a20b0594f0bc6c58f74": {
          "model_module": "@jupyter-widgets/base",
          "model_module_version": "1.2.0",
          "model_name": "LayoutModel",
          "state": {
            "_model_module": "@jupyter-widgets/base",
            "_model_module_version": "1.2.0",
            "_model_name": "LayoutModel",
            "_view_count": null,
            "_view_module": "@jupyter-widgets/base",
            "_view_module_version": "1.2.0",
            "_view_name": "LayoutView",
            "align_content": null,
            "align_items": null,
            "align_self": null,
            "border": null,
            "bottom": null,
            "display": null,
            "flex": null,
            "flex_flow": null,
            "grid_area": null,
            "grid_auto_columns": null,
            "grid_auto_flow": null,
            "grid_auto_rows": null,
            "grid_column": null,
            "grid_gap": null,
            "grid_row": null,
            "grid_template_areas": null,
            "grid_template_columns": null,
            "grid_template_rows": null,
            "height": null,
            "justify_content": null,
            "justify_items": null,
            "left": null,
            "margin": null,
            "max_height": null,
            "max_width": null,
            "min_height": null,
            "min_width": null,
            "object_fit": null,
            "object_position": null,
            "order": null,
            "overflow": null,
            "overflow_x": null,
            "overflow_y": null,
            "padding": null,
            "right": null,
            "top": null,
            "visibility": null,
            "width": null
          }
        },
        "8b7847aeee6a45ec89ed5a46a872cfe6": {
          "model_module": "@jupyter-widgets/base",
          "model_module_version": "1.2.0",
          "model_name": "LayoutModel",
          "state": {
            "_model_module": "@jupyter-widgets/base",
            "_model_module_version": "1.2.0",
            "_model_name": "LayoutModel",
            "_view_count": null,
            "_view_module": "@jupyter-widgets/base",
            "_view_module_version": "1.2.0",
            "_view_name": "LayoutView",
            "align_content": null,
            "align_items": null,
            "align_self": null,
            "border": null,
            "bottom": null,
            "display": null,
            "flex": null,
            "flex_flow": null,
            "grid_area": null,
            "grid_auto_columns": null,
            "grid_auto_flow": null,
            "grid_auto_rows": null,
            "grid_column": null,
            "grid_gap": null,
            "grid_row": null,
            "grid_template_areas": null,
            "grid_template_columns": null,
            "grid_template_rows": null,
            "height": null,
            "justify_content": null,
            "justify_items": null,
            "left": null,
            "margin": null,
            "max_height": null,
            "max_width": null,
            "min_height": null,
            "min_width": null,
            "object_fit": null,
            "object_position": null,
            "order": null,
            "overflow": null,
            "overflow_x": null,
            "overflow_y": null,
            "padding": null,
            "right": null,
            "top": null,
            "visibility": null,
            "width": null
          }
        },
        "8eecc2608a6e4ed8941782827fb66bca": {
          "model_module": "@jupyter-widgets/base",
          "model_module_version": "1.2.0",
          "model_name": "LayoutModel",
          "state": {
            "_model_module": "@jupyter-widgets/base",
            "_model_module_version": "1.2.0",
            "_model_name": "LayoutModel",
            "_view_count": null,
            "_view_module": "@jupyter-widgets/base",
            "_view_module_version": "1.2.0",
            "_view_name": "LayoutView",
            "align_content": null,
            "align_items": null,
            "align_self": null,
            "border": null,
            "bottom": null,
            "display": null,
            "flex": null,
            "flex_flow": null,
            "grid_area": null,
            "grid_auto_columns": null,
            "grid_auto_flow": null,
            "grid_auto_rows": null,
            "grid_column": null,
            "grid_gap": null,
            "grid_row": null,
            "grid_template_areas": null,
            "grid_template_columns": null,
            "grid_template_rows": null,
            "height": null,
            "justify_content": null,
            "justify_items": null,
            "left": null,
            "margin": null,
            "max_height": null,
            "max_width": null,
            "min_height": null,
            "min_width": null,
            "object_fit": null,
            "object_position": null,
            "order": null,
            "overflow": null,
            "overflow_x": null,
            "overflow_y": null,
            "padding": null,
            "right": null,
            "top": null,
            "visibility": null,
            "width": null
          }
        },
        "98427ca964794adf9568731618952cb5": {
          "model_module": "@jupyter-widgets/controls",
          "model_module_version": "1.5.0",
          "model_name": "ProgressStyleModel",
          "state": {
            "_model_module": "@jupyter-widgets/controls",
            "_model_module_version": "1.5.0",
            "_model_name": "ProgressStyleModel",
            "_view_count": null,
            "_view_module": "@jupyter-widgets/base",
            "_view_module_version": "1.2.0",
            "_view_name": "StyleView",
            "bar_color": null,
            "description_width": ""
          }
        },
        "98472d21074b40f28a6e92368be4ac5c": {
          "model_module": "@jupyter-widgets/controls",
          "model_module_version": "1.5.0",
          "model_name": "DescriptionStyleModel",
          "state": {
            "_model_module": "@jupyter-widgets/controls",
            "_model_module_version": "1.5.0",
            "_model_name": "DescriptionStyleModel",
            "_view_count": null,
            "_view_module": "@jupyter-widgets/base",
            "_view_module_version": "1.2.0",
            "_view_name": "StyleView",
            "description_width": ""
          }
        },
        "9af2fc34e7514c6d88d6f6250d0dd7d2": {
          "model_module": "@jupyter-widgets/base",
          "model_module_version": "1.2.0",
          "model_name": "LayoutModel",
          "state": {
            "_model_module": "@jupyter-widgets/base",
            "_model_module_version": "1.2.0",
            "_model_name": "LayoutModel",
            "_view_count": null,
            "_view_module": "@jupyter-widgets/base",
            "_view_module_version": "1.2.0",
            "_view_name": "LayoutView",
            "align_content": null,
            "align_items": null,
            "align_self": null,
            "border": null,
            "bottom": null,
            "display": null,
            "flex": null,
            "flex_flow": null,
            "grid_area": null,
            "grid_auto_columns": null,
            "grid_auto_flow": null,
            "grid_auto_rows": null,
            "grid_column": null,
            "grid_gap": null,
            "grid_row": null,
            "grid_template_areas": null,
            "grid_template_columns": null,
            "grid_template_rows": null,
            "height": null,
            "justify_content": null,
            "justify_items": null,
            "left": null,
            "margin": null,
            "max_height": null,
            "max_width": null,
            "min_height": null,
            "min_width": null,
            "object_fit": null,
            "object_position": null,
            "order": null,
            "overflow": null,
            "overflow_x": null,
            "overflow_y": null,
            "padding": null,
            "right": null,
            "top": null,
            "visibility": null,
            "width": null
          }
        },
        "a07201dd1b314cf2a8edc353b1171811": {
          "model_module": "@jupyter-widgets/controls",
          "model_module_version": "1.5.0",
          "model_name": "HTMLModel",
          "state": {
            "_dom_classes": [],
            "_model_module": "@jupyter-widgets/controls",
            "_model_module_version": "1.5.0",
            "_model_name": "HTMLModel",
            "_view_count": null,
            "_view_module": "@jupyter-widgets/controls",
            "_view_module_version": "1.5.0",
            "_view_name": "HTMLView",
            "description": "",
            "description_tooltip": null,
            "layout": "IPY_MODEL_8eecc2608a6e4ed8941782827fb66bca",
            "placeholder": "​",
            "style": "IPY_MODEL_98472d21074b40f28a6e92368be4ac5c",
            "value": " 1.47k/1.47k [00:00&lt;00:00, 66.8kB/s]"
          }
        },
        "a54a41ee199c4a699a513647ee5345a3": {
          "model_module": "@jupyter-widgets/controls",
          "model_module_version": "1.5.0",
          "model_name": "FloatProgressModel",
          "state": {
            "_dom_classes": [],
            "_model_module": "@jupyter-widgets/controls",
            "_model_module_version": "1.5.0",
            "_model_name": "FloatProgressModel",
            "_view_count": null,
            "_view_module": "@jupyter-widgets/controls",
            "_view_module_version": "1.5.0",
            "_view_name": "ProgressView",
            "bar_style": "success",
            "description": "",
            "description_tooltip": null,
            "layout": "IPY_MODEL_bd63504f5a644b509388199152913930",
            "max": 1469,
            "min": 0,
            "orientation": "horizontal",
            "style": "IPY_MODEL_f37e867f10eb43c687c43a7d0e8ee8e8",
            "value": 1469
          }
        },
        "b0dbb062319d40ea8112c454980d8e6e": {
          "model_module": "@jupyter-widgets/controls",
          "model_module_version": "1.5.0",
          "model_name": "HTMLModel",
          "state": {
            "_dom_classes": [],
            "_model_module": "@jupyter-widgets/controls",
            "_model_module_version": "1.5.0",
            "_model_name": "HTMLModel",
            "_view_count": null,
            "_view_module": "@jupyter-widgets/controls",
            "_view_module_version": "1.5.0",
            "_view_name": "HTMLView",
            "description": "",
            "description_tooltip": null,
            "layout": "IPY_MODEL_1611ba69605c427a8d1520363b2848ac",
            "placeholder": "​",
            "style": "IPY_MODEL_6daa940b22e743768d54a92a1835bb50",
            "value": " 115M/115M [00:01&lt;00:00, 139MB/s]"
          }
        },
        "b908dacb29f64a0686368e9d2c10f8cf": {
          "model_module": "@jupyter-widgets/base",
          "model_module_version": "1.2.0",
          "model_name": "LayoutModel",
          "state": {
            "_model_module": "@jupyter-widgets/base",
            "_model_module_version": "1.2.0",
            "_model_name": "LayoutModel",
            "_view_count": null,
            "_view_module": "@jupyter-widgets/base",
            "_view_module_version": "1.2.0",
            "_view_name": "LayoutView",
            "align_content": null,
            "align_items": null,
            "align_self": null,
            "border": null,
            "bottom": null,
            "display": null,
            "flex": null,
            "flex_flow": null,
            "grid_area": null,
            "grid_auto_columns": null,
            "grid_auto_flow": null,
            "grid_auto_rows": null,
            "grid_column": null,
            "grid_gap": null,
            "grid_row": null,
            "grid_template_areas": null,
            "grid_template_columns": null,
            "grid_template_rows": null,
            "height": null,
            "justify_content": null,
            "justify_items": null,
            "left": null,
            "margin": null,
            "max_height": null,
            "max_width": null,
            "min_height": null,
            "min_width": null,
            "object_fit": null,
            "object_position": null,
            "order": null,
            "overflow": null,
            "overflow_x": null,
            "overflow_y": null,
            "padding": null,
            "right": null,
            "top": null,
            "visibility": null,
            "width": null
          }
        },
        "bb85b779e7214e148b54d61fa852e5dc": {
          "model_module": "@jupyter-widgets/controls",
          "model_module_version": "1.5.0",
          "model_name": "HBoxModel",
          "state": {
            "_dom_classes": [],
            "_model_module": "@jupyter-widgets/controls",
            "_model_module_version": "1.5.0",
            "_model_name": "HBoxModel",
            "_view_count": null,
            "_view_module": "@jupyter-widgets/controls",
            "_view_module_version": "1.5.0",
            "_view_name": "HBoxView",
            "box_style": "",
            "children": [
              "IPY_MODEL_e4916a6240a340e6ab6d81e3d24035b0",
              "IPY_MODEL_69f514e4dda44700b061ab613da679c2",
              "IPY_MODEL_b0dbb062319d40ea8112c454980d8e6e"
            ],
            "layout": "IPY_MODEL_7a5f1076aeed453a999f7777d9357f9f"
          }
        },
        "bd63504f5a644b509388199152913930": {
          "model_module": "@jupyter-widgets/base",
          "model_module_version": "1.2.0",
          "model_name": "LayoutModel",
          "state": {
            "_model_module": "@jupyter-widgets/base",
            "_model_module_version": "1.2.0",
            "_model_name": "LayoutModel",
            "_view_count": null,
            "_view_module": "@jupyter-widgets/base",
            "_view_module_version": "1.2.0",
            "_view_name": "LayoutView",
            "align_content": null,
            "align_items": null,
            "align_self": null,
            "border": null,
            "bottom": null,
            "display": null,
            "flex": null,
            "flex_flow": null,
            "grid_area": null,
            "grid_auto_columns": null,
            "grid_auto_flow": null,
            "grid_auto_rows": null,
            "grid_column": null,
            "grid_gap": null,
            "grid_row": null,
            "grid_template_areas": null,
            "grid_template_columns": null,
            "grid_template_rows": null,
            "height": null,
            "justify_content": null,
            "justify_items": null,
            "left": null,
            "margin": null,
            "max_height": null,
            "max_width": null,
            "min_height": null,
            "min_width": null,
            "object_fit": null,
            "object_position": null,
            "order": null,
            "overflow": null,
            "overflow_x": null,
            "overflow_y": null,
            "padding": null,
            "right": null,
            "top": null,
            "visibility": null,
            "width": null
          }
        },
        "bdf9c7b9051b47e888054200e3eaee2a": {
          "model_module": "@jupyter-widgets/controls",
          "model_module_version": "1.5.0",
          "model_name": "HTMLModel",
          "state": {
            "_dom_classes": [],
            "_model_module": "@jupyter-widgets/controls",
            "_model_module_version": "1.5.0",
            "_model_name": "HTMLModel",
            "_view_count": null,
            "_view_module": "@jupyter-widgets/controls",
            "_view_module_version": "1.5.0",
            "_view_name": "HTMLView",
            "description": "",
            "description_tooltip": null,
            "layout": "IPY_MODEL_8818f0cb29c44a20b0594f0bc6c58f74",
            "placeholder": "​",
            "style": "IPY_MODEL_1586e31a998d461db568771083d8ea73",
            "value": "yolox_l0.05.onnx: 100%"
          }
        },
        "d9f0eba661844582b532674d3b2ea324": {
          "model_module": "@jupyter-widgets/controls",
          "model_module_version": "1.5.0",
          "model_name": "ProgressStyleModel",
          "state": {
            "_model_module": "@jupyter-widgets/controls",
            "_model_module_version": "1.5.0",
            "_model_name": "ProgressStyleModel",
            "_view_count": null,
            "_view_module": "@jupyter-widgets/base",
            "_view_module_version": "1.2.0",
            "_view_name": "StyleView",
            "bar_color": null,
            "description_width": ""
          }
        },
        "ddfae84cb1d54665881e29226d6af457": {
          "model_module": "@jupyter-widgets/controls",
          "model_module_version": "1.5.0",
          "model_name": "HBoxModel",
          "state": {
            "_dom_classes": [],
            "_model_module": "@jupyter-widgets/controls",
            "_model_module_version": "1.5.0",
            "_model_name": "HBoxModel",
            "_view_count": null,
            "_view_module": "@jupyter-widgets/controls",
            "_view_module_version": "1.5.0",
            "_view_name": "HBoxView",
            "box_style": "",
            "children": [
              "IPY_MODEL_bdf9c7b9051b47e888054200e3eaee2a",
              "IPY_MODEL_ff99053018eb44d49f5024520ef47538",
              "IPY_MODEL_309be3951f164683967c22fdc9169eb3"
            ],
            "layout": "IPY_MODEL_e7490a793c9645078ddae13a58982942"
          }
        },
        "e4916a6240a340e6ab6d81e3d24035b0": {
          "model_module": "@jupyter-widgets/controls",
          "model_module_version": "1.5.0",
          "model_name": "HTMLModel",
          "state": {
            "_dom_classes": [],
            "_model_module": "@jupyter-widgets/controls",
            "_model_module_version": "1.5.0",
            "_model_name": "HTMLModel",
            "_view_count": null,
            "_view_module": "@jupyter-widgets/controls",
            "_view_module_version": "1.5.0",
            "_view_name": "HTMLView",
            "description": "",
            "description_tooltip": null,
            "layout": "IPY_MODEL_38791793c95047c8a4a0d7630791457c",
            "placeholder": "​",
            "style": "IPY_MODEL_74e18bfad79d45debee9d839229f2eaa",
            "value": "model.safetensors: 100%"
          }
        },
        "e7490a793c9645078ddae13a58982942": {
          "model_module": "@jupyter-widgets/base",
          "model_module_version": "1.2.0",
          "model_name": "LayoutModel",
          "state": {
            "_model_module": "@jupyter-widgets/base",
            "_model_module_version": "1.2.0",
            "_model_name": "LayoutModel",
            "_view_count": null,
            "_view_module": "@jupyter-widgets/base",
            "_view_module_version": "1.2.0",
            "_view_name": "LayoutView",
            "align_content": null,
            "align_items": null,
            "align_self": null,
            "border": null,
            "bottom": null,
            "display": null,
            "flex": null,
            "flex_flow": null,
            "grid_area": null,
            "grid_auto_columns": null,
            "grid_auto_flow": null,
            "grid_auto_rows": null,
            "grid_column": null,
            "grid_gap": null,
            "grid_row": null,
            "grid_template_areas": null,
            "grid_template_columns": null,
            "grid_template_rows": null,
            "height": null,
            "justify_content": null,
            "justify_items": null,
            "left": null,
            "margin": null,
            "max_height": null,
            "max_width": null,
            "min_height": null,
            "min_width": null,
            "object_fit": null,
            "object_position": null,
            "order": null,
            "overflow": null,
            "overflow_x": null,
            "overflow_y": null,
            "padding": null,
            "right": null,
            "top": null,
            "visibility": null,
            "width": null
          }
        },
        "ecb3a2cd40bb43db8a57bb175e4e1552": {
          "model_module": "@jupyter-widgets/controls",
          "model_module_version": "1.5.0",
          "model_name": "HBoxModel",
          "state": {
            "_dom_classes": [],
            "_model_module": "@jupyter-widgets/controls",
            "_model_module_version": "1.5.0",
            "_model_name": "HBoxModel",
            "_view_count": null,
            "_view_module": "@jupyter-widgets/controls",
            "_view_module_version": "1.5.0",
            "_view_name": "HBoxView",
            "box_style": "",
            "children": [
              "IPY_MODEL_1b8d9a55783a44aeb3de9709c6bb19d8",
              "IPY_MODEL_a54a41ee199c4a699a513647ee5345a3",
              "IPY_MODEL_a07201dd1b314cf2a8edc353b1171811"
            ],
            "layout": "IPY_MODEL_3872f9e876844910b7c33d3cc6ce55b1"
          }
        },
        "ef895b47596e4f298099e7290798fb2d": {
          "model_module": "@jupyter-widgets/controls",
          "model_module_version": "1.5.0",
          "model_name": "HTMLModel",
          "state": {
            "_dom_classes": [],
            "_model_module": "@jupyter-widgets/controls",
            "_model_module_version": "1.5.0",
            "_model_name": "HTMLModel",
            "_view_count": null,
            "_view_module": "@jupyter-widgets/controls",
            "_view_module_version": "1.5.0",
            "_view_name": "HTMLView",
            "description": "",
            "description_tooltip": null,
            "layout": "IPY_MODEL_0e1bffc329b64c4d8756842468b9dbd9",
            "placeholder": "​",
            "style": "IPY_MODEL_68f0b6abcf2641e990b83215008b8e48",
            "value": " 46.8M/46.8M [00:00&lt;00:00, 157MB/s]"
          }
        },
        "f37e867f10eb43c687c43a7d0e8ee8e8": {
          "model_module": "@jupyter-widgets/controls",
          "model_module_version": "1.5.0",
          "model_name": "ProgressStyleModel",
          "state": {
            "_model_module": "@jupyter-widgets/controls",
            "_model_module_version": "1.5.0",
            "_model_name": "ProgressStyleModel",
            "_view_count": null,
            "_view_module": "@jupyter-widgets/base",
            "_view_module_version": "1.2.0",
            "_view_name": "StyleView",
            "bar_color": null,
            "description_width": ""
          }
        },
        "ff99053018eb44d49f5024520ef47538": {
          "model_module": "@jupyter-widgets/controls",
          "model_module_version": "1.5.0",
          "model_name": "FloatProgressModel",
          "state": {
            "_dom_classes": [],
            "_model_module": "@jupyter-widgets/controls",
            "_model_module_version": "1.5.0",
            "_model_name": "FloatProgressModel",
            "_view_count": null,
            "_view_module": "@jupyter-widgets/controls",
            "_view_module_version": "1.5.0",
            "_view_name": "ProgressView",
            "bar_style": "success",
            "description": "",
            "description_tooltip": null,
            "layout": "IPY_MODEL_0f46a4beb23e43f490277cef5722f2d1",
            "max": 216625723,
            "min": 0,
            "orientation": "horizontal",
            "style": "IPY_MODEL_d9f0eba661844582b532674d3b2ea324",
            "value": 216625723
          }
        }
      }
    }
  },
  "nbformat": 4,
  "nbformat_minor": 0
}
